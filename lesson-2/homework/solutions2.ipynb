{
 "cells": [
  {
   "cell_type": "markdown",
   "id": "becfcc57",
   "metadata": {},
   "source": [
    "# Number Data Type Questions"
   ]
  },
  {
   "cell_type": "code",
   "execution_count": null,
   "id": "d21e574b",
   "metadata": {},
   "outputs": [
    {
     "name": "stdout",
     "output_type": "stream",
     "text": [
      "64.95\n"
     ]
    }
   ],
   "source": [
    "# 1st. Solution \n",
    "n = float(input('Please enter a number: '))\n",
    "print(round(n, 2))"
   ]
  },
  {
   "cell_type": "code",
   "execution_count": 7,
   "id": "5948e09a",
   "metadata": {},
   "outputs": [
    {
     "name": "stdout",
     "output_type": "stream",
     "text": [
      "Large number: 30.0 and  Small number: 10.0    \n"
     ]
    }
   ],
   "source": [
    "# 2st. Solution\n",
    "f_num = float(input('Please enter a number: '))\n",
    "s_num = float(input('Please enter a number: '))\n",
    "t_num = float(input('Please enter a number: '))\n",
    "\n",
    "print(f'Large number: {max(f_num, s_num,t_num)} and  Small number: {min(f_num, s_num,t_num)}    ')"
   ]
  },
  {
   "cell_type": "code",
   "execution_count": 11,
   "id": "a2f59113",
   "metadata": {},
   "outputs": [
    {
     "name": "stdout",
     "output_type": "stream",
     "text": [
      "Kilometer to metr: 10000.0 \n",
      "Kilometer to centimeter: 1000000.0\n"
     ]
    }
   ],
   "source": [
    "# 3st. Solution\n",
    "km = float(input('Please enter a km number: '))\n",
    "m = km*1000\n",
    "sm = km*100000\n",
    "\n",
    "print(f'Kilometer to metr: {m} \\nKilometer to centimeter: {sm}') "
   ]
  },
  {
   "cell_type": "code",
   "execution_count": null,
   "id": "ddba20d7",
   "metadata": {},
   "outputs": [
    {
     "name": "stdout",
     "output_type": "stream",
     "text": [
      "Integer part: 2  \n",
      "Remainder part: 3\n"
     ]
    }
   ],
   "source": [
    "# 4st. Solution\n",
    "num = divmod(17,7)\n",
    "\n",
    "print(f'Integer part: {num[0]}  \\nRemainder part: {num[1]}')"
   ]
  },
  {
   "cell_type": "code",
   "execution_count": 5,
   "id": "0a24ec81",
   "metadata": {},
   "outputs": [
    {
     "name": "stdout",
     "output_type": "stream",
     "text": [
      " 20.0 °C: = 68.0 °F \n"
     ]
    }
   ],
   "source": [
    "# 5st. Solution\n",
    "selcius = float(input('Enter selsius number: '))\n",
    "fahrenheit = selcius*1.8+32\n",
    "\n",
    "print(f' {selcius} °C: = {fahrenheit} °F ')"
   ]
  },
  {
   "cell_type": "code",
   "execution_count": null,
   "id": "d679a2a4",
   "metadata": {},
   "outputs": [
    {
     "name": "stdout",
     "output_type": "stream",
     "text": [
      "4\n"
     ]
    }
   ],
   "source": [
    "# 6st. Solution\n",
    "num = 19874456454\n",
    "st = str(num)\n",
    "print((st)[-1])"
   ]
  },
  {
   "cell_type": "markdown",
   "id": "0977601f",
   "metadata": {},
   "source": [
    "# String"
   ]
  },
  {
   "cell_type": "code",
   "execution_count": null,
   "id": "5313b92a",
   "metadata": {},
   "outputs": [
    {
     "name": "stdout",
     "output_type": "stream",
     "text": [
      "Your name is Shermukhammad  and you are 37 years old.\n"
     ]
    }
   ],
   "source": [
    "# 1st. Solution\n",
    "\n",
    "name = input('What`s your name: ')\n",
    "age = input('How old you: ')\n",
    "\n",
    "print(f'Your name is {name}  and you are {age} years old.')"
   ]
  },
  {
   "cell_type": "code",
   "execution_count": null,
   "id": "2e7dce84",
   "metadata": {},
   "outputs": [],
   "source": [
    "#   +0  +1  +2  +3  +4  +5  +6  +7  +8  +9 +10 +11 +12\n",
    "#    L   M   a   a   s   l   e   i   t   b   t   u   i\n",
    "#  -13 -12 -11 -10  -9  -8  -7  -6  -5  -4  -3  -2  -1\n"
   ]
  },
  {
   "cell_type": "code",
   "execution_count": 23,
   "id": "98ce1efb",
   "metadata": {},
   "outputs": [
    {
     "name": "stdout",
     "output_type": "stream",
     "text": [
      "Lasetti\n",
      "Malibu\n"
     ]
    }
   ],
   "source": [
    "# 2st. Solution Quyidagi matndan avtomobil nomlarini ajratib oling: txt = 'LMaasleitbtui'\n",
    "\n",
    "txt = 'LMaasleitbtui'\n",
    "print(txt[:13:2])\n",
    "print(txt[1:12:2])"
   ]
  },
  {
   "cell_type": "code",
   "execution_count": null,
   "id": "456f9afa",
   "metadata": {},
   "outputs": [
    {
     "name": "stdout",
     "output_type": "stream",
     "text": [
      "The length the words you entred: 16\n"
     ]
    }
   ],
   "source": [
    "# 3.1st.\n",
    "word = input('Enter the words: ')\n",
    "\n",
    "print(f'The length the words you entred: {len(word)}')\n"
   ]
  },
  {
   "cell_type": "code",
   "execution_count": null,
   "id": "36194f96",
   "metadata": {},
   "outputs": [
    {
     "name": "stdout",
     "output_type": "stream",
     "text": [
      "Large: PYTHON VERY NICE \n",
      "Small: python very nice\n"
     ]
    }
   ],
   "source": [
    "# 3.2st.\n",
    "word = input('Enter the words: ')\n",
    "\n",
    "print(f'Large: {(word.upper())} \\nSmall: {(word.lower())}')"
   ]
  },
  {
   "cell_type": "code",
   "execution_count": null,
   "id": "ef6fa9c6",
   "metadata": {},
   "outputs": [
    {
     "name": "stdout",
     "output_type": "stream",
     "text": [
      "polindrom\n"
     ]
    }
   ],
   "source": [
    "# 4st.\n",
    "first_palindrom = 'madam'\n",
    "second_palindrom = 'racecar'\n",
    "num_polindrom = '12321'\n",
    "\n",
    "if first_palindrom[0:5] == first_palindrom[::-1] and second_palindrom[0:7]==second_palindrom[::-1] and num_polindrom[0:5]==num_polindrom[::-1]:\n",
    "    print('polindrom') \n",
    "else:\n",
    "    print('No polindrom')"
   ]
  },
  {
   "cell_type": "code",
   "execution_count": null,
   "id": "a5ef2e96",
   "metadata": {},
   "outputs": [
    {
     "name": "stdout",
     "output_type": "stream",
     "text": [
      "Unli harflar soni: 3 ta\n",
      "Undos harflar soni: 7 ta\n"
     ]
    }
   ],
   "source": [
    "# 5st. Shuni yaxhsilab tushunib ol\n",
    "word = 'Hello World'\n",
    "vowels = 'aeiou'\n",
    "consonants = 'bcdfghjklmnpqrstvwxyz'\n",
    "\n",
    "vowel_count = 0\n",
    "consonant_count = 0\n",
    "\n",
    "for char in word.lower():\n",
    "    if char in vowels:\n",
    "        vowel_count+=1\n",
    "    elif char in consonants:\n",
    "        consonant_count+=1\n",
    "\n",
    "print(f'Unli harflar soni: {vowel_count} ta')\n",
    "print(f'Undos harflar soni: {consonant_count} ta')"
   ]
  },
  {
   "cell_type": "code",
   "execution_count": 1,
   "id": "2c9dd147",
   "metadata": {},
   "outputs": [
    {
     "name": "stdout",
     "output_type": "stream",
     "text": [
      "Matn topildi\n"
     ]
    }
   ],
   "source": [
    "# 6st.\n",
    "words = 'Hello my friend Islom'\n",
    "fd = 'Islom'\n",
    "\n",
    "if fd in words:\n",
    "    print('Matn topildi')\n",
    "else:\n",
    "    print('Matn topilmadi')\n"
   ]
  },
  {
   "cell_type": "code",
   "execution_count": null,
   "id": "67a99f65",
   "metadata": {},
   "outputs": [
    {
     "name": "stdout",
     "output_type": "stream",
     "text": [
      "Yangi gap: Men Shaftolini yaxshi ko`raman\n"
     ]
    }
   ],
   "source": [
    "# 7st. buniyam tushunib ol\n",
    "\n",
    "# Foydalanuvchidan gap va so'zlar olinadi\n",
    "sentence = \"Men Olmani yaxshi ko`raman\"\n",
    "old_word = \"Olmani\"\n",
    "new_word = \"Shaftolini\"\n",
    "\n",
    "# So'zni almashtirish\n",
    "new_sentence = sentence.replace(old_word, new_word)\n",
    "\n",
    "# Natija\n",
    "print(\"Yangi gap:\", new_sentence)\n"
   ]
  },
  {
   "cell_type": "code",
   "execution_count": null,
   "id": "26614950",
   "metadata": {},
   "outputs": [
    {
     "name": "stdout",
     "output_type": "stream",
     "text": [
      "Bosh harf: H, Ohirgi harf: d\n"
     ]
    }
   ],
   "source": [
    "# 8st. eslatma buni ham eslab qol '' -bo`sh yozuvsiz qolsa xatolik bermasligi uchunquyidagicha yozilaid\n",
    "sentence = input('Please enter text: ')\n",
    "\n",
    "\n",
    "if len(sentence) > 0:\n",
    "    print(f'Bosh harf: {sentence[0]}, Ohirgi harf: {sentence[-1]}')\n",
    "else:\n",
    "    print(\"Matn kiritilmadi!\")\n",
    "\n",
    "\n",
    "\n"
   ]
  },
  {
   "cell_type": "code",
   "execution_count": null,
   "id": "9f0e9a56",
   "metadata": {},
   "outputs": [
    {
     "name": "stdout",
     "output_type": "stream",
     "text": [
      "Reverse sentence: dlrow olleH\n"
     ]
    }
   ],
   "source": [
    "# 9st.\n",
    "sentence = input('Please input sentence: ')\n",
    "\n",
    "print(f'Reverse sentence: {sentence[::-1]}')"
   ]
  },
  {
   "cell_type": "code",
   "execution_count": null,
   "id": "ac086d3d",
   "metadata": {},
   "outputs": [
    {
     "name": "stdout",
     "output_type": "stream",
     "text": [
      "So`zlar soni: 2\n"
     ]
    }
   ],
   "source": [
    "# 10st. Eslab qol \n",
    "sentence = input('Please input sentence:').strip()\n",
    "\n",
    "if sentence:\n",
    "    print(f\"So'zlar soni: {len(sentence.split())}\")\n",
    "else:\n",
    "    print(\"Siz matn kiritmadingiz.\")"
   ]
  },
  {
   "cell_type": "code",
   "execution_count": 58,
   "id": "46daa35b",
   "metadata": {},
   "outputs": [
    {
     "name": "stdout",
     "output_type": "stream",
     "text": [
      "Matnda raqam bor\n"
     ]
    }
   ],
   "source": [
    "# 11st. Eslab qol \n",
    "word = 'H1ello'\n",
    "\n",
    "for i in word:\n",
    "    if i.isdigit():\n",
    "        print(\"Matnda raqam bor\")\n",
    "        break\n",
    "else:\n",
    "        print('Matnda raqam yo`q')\n",
    "        "
   ]
  },
  {
   "cell_type": "code",
   "execution_count": null,
   "id": "203f8efd",
   "metadata": {},
   "outputs": [
    {
     "name": "stdout",
     "output_type": "stream",
     "text": [
      "'apple-banana-cherry'\n"
     ]
    }
   ],
   "source": [
    "# 12st.\n",
    "words =  ['apple', 'banana', 'cherry']\n",
    "print(repr('-'.join(words)))"
   ]
  },
  {
   "cell_type": "code",
   "execution_count": 72,
   "id": "5ea380aa",
   "metadata": {},
   "outputs": [
    {
     "name": "stdout",
     "output_type": "stream",
     "text": [
      "'Assalom'\n"
     ]
    }
   ],
   "source": [
    "# 13st.\n",
    "sentence = input('Please enter input words: ')\n",
    "clean_text = ''.join(sentence.split())\n",
    "print(clean_text)"
   ]
  },
  {
   "cell_type": "code",
   "execution_count": null,
   "id": "4a32cfca",
   "metadata": {},
   "outputs": [
    {
     "name": "stdout",
     "output_type": "stream",
     "text": [
      "Kiritilgan matn boshqa boshqa\n"
     ]
    }
   ],
   "source": [
    "# 14st.\n",
    "first_sentence = input('First sentence: ') \n",
    "second_sentence = input('Second sentence: ')\n",
    "if first_sentence==second_sentence:\n",
    "    print('Kiritilgan matnlar bir hil')\n",
    "else:\n",
    "    print('Kiritilgan matnlar boshqa boshqa')\n"
   ]
  },
  {
   "cell_type": "code",
   "execution_count": 98,
   "id": "7e9e239d",
   "metadata": {},
   "outputs": [
    {
     "ename": "IndentationError",
     "evalue": "expected an indented block after 'for' statement on line 4 (1581705819.py, line 5)",
     "output_type": "error",
     "traceback": [
      "  \u001b[36mCell\u001b[39m\u001b[36m \u001b[39m\u001b[32mIn[98]\u001b[39m\u001b[32m, line 5\u001b[39m\n\u001b[31m    \u001b[39m\u001b[31mprint(''.join(i[0] for i in text.split()))\u001b[39m\n    ^\n\u001b[31mIndentationError\u001b[39m\u001b[31m:\u001b[39m expected an indented block after 'for' statement on line 4\n"
     ]
    }
   ],
   "source": [
    "# 15st.\n",
    "text = 'World Health Organization'\n",
    "\n",
    "for i in text.split():\n",
    "print(''.join(i[0] for i in text.split()))\n"
   ]
  },
  {
   "cell_type": "code",
   "execution_count": null,
   "id": "e74f9c74",
   "metadata": {},
   "outputs": [],
   "source": []
  },
  {
   "cell_type": "code",
   "execution_count": null,
   "id": "8c3b9e57",
   "metadata": {},
   "outputs": [
    {
     "name": "stdout",
     "output_type": "stream",
     "text": [
      "WHO\n"
     ]
    }
   ],
   "source": [
    "# 15st.\n",
    "text = 'World Health Organization'\n",
    "\n",
    "result = ''\n",
    "for i in text.split():\n",
    "    result += i[0]\n",
    "\n",
    "print(result)\n"
   ]
  },
  {
   "cell_type": "code",
   "execution_count": 109,
   "id": "b6428de1",
   "metadata": {},
   "outputs": [
    {
     "name": "stdout",
     "output_type": "stream",
     "text": [
      "sadsadsadsa   00 \n"
     ]
    }
   ],
   "source": [
    "# 16st.\n",
    "import string\n",
    "s = input(\"how much for the maple syrup? $20.99? That's ricidulous!!!\")\n",
    "for char in string.punctuation:\n",
    "    s = s.replace(char, ' ')\n",
    "\n",
    "print(s)"
   ]
  },
  {
   "cell_type": "code",
   "execution_count": 114,
   "id": "057f19e8",
   "metadata": {},
   "outputs": [
    {
     "name": "stdout",
     "output_type": "stream",
     "text": [
      "Natija: H*ll* w*rld\n"
     ]
    }
   ],
   "source": [
    "# 17st.\n",
    "\n",
    "text = input(\"Matn kiriting: \")\n",
    "\n",
    "vowels = 'aeiouAEIOU'\n",
    "\n",
    "for vowel in vowels:\n",
    "    text = text.replace(vowel, '*')\n",
    "\n",
    "print(\"Natija:\", text)\n",
    "\n"
   ]
  },
  {
   "cell_type": "code",
   "execution_count": 118,
   "id": "8ead7c94",
   "metadata": {},
   "outputs": [
    {
     "name": "stdout",
     "output_type": "stream",
     "text": [
      "❌ Matn shartlarga mos emas.\n"
     ]
    }
   ],
   "source": [
    "# 18st.\n",
    "text = input(\"Matn kiriting: \")\n",
    "start_word = input(\"Qaysi so'z bilan boshlanishi kerak: \")\n",
    "end_word = input(\"Qaysi so'z bilan tugashi kerak: \")\n",
    "\n",
    "# Tekshiruv\n",
    "if text.startswith(start_word) and text.endswith(end_word):\n",
    "    print(\"✅ Matn belgilangan so'z bilan boshlanadi va tugaydi.\")\n",
    "else:\n",
    "    print(\"❌ Matn shartlarga mos emas.\")\n"
   ]
  },
  {
   "cell_type": "markdown",
   "id": "a6451a07",
   "metadata": {},
   "source": [
    "# Bolean "
   ]
  },
  {
   "cell_type": "code",
   "execution_count": null,
   "id": "9456e71a",
   "metadata": {},
   "outputs": [
    {
     "name": "stdout",
     "output_type": "stream",
     "text": [
      "User name va praol kiritilmadi \n"
     ]
    }
   ],
   "source": [
    "# 1st. username dan keyin strip() qo`yish lozim`\n",
    "username = input('Please enter user name: ')\n",
    "password = input('Please enter password: ')\n",
    "\n",
    "if username !='' and password!='':\n",
    "    print('Siz User name va parolni muvafaqiyatli kirtidingiz !')\n",
    "else:\n",
    "    print('User name va praol kiritilmadi ')\n"
   ]
  },
  {
   "cell_type": "code",
   "execution_count": 10,
   "id": "f94b3fe9",
   "metadata": {},
   "outputs": [
    {
     "name": "stdout",
     "output_type": "stream",
     "text": [
      "The two number are equal\n"
     ]
    }
   ],
   "source": [
    "# 2st.\n",
    "num1 = float(input('Please enter first number: '))\n",
    "num2 = float(input('Please enter second number: '))\n",
    "\n",
    "if num1 == num2:\n",
    "    print('The two number are equal')\n",
    "else:\n",
    "    print('The two number are not equal')\n",
    "\n"
   ]
  },
  {
   "cell_type": "code",
   "execution_count": 26,
   "id": "21f20a8a",
   "metadata": {},
   "outputs": [
    {
     "name": "stdout",
     "output_type": "stream",
     "text": [
      "0 — bu juft son\n"
     ]
    }
   ],
   "source": [
    "# 3st.\n",
    "number = int(input('Please enter your number: '))\n",
    "\n",
    "if number == 0:\n",
    "    print(\"0 — bu juft son\")\n",
    "elif number > 0 and number % 2 == 0:\n",
    "    print(\"Musbat juft son\")\n",
    "elif number > 0 and number % 2 != 0:\n",
    "    print(\"Musbat toq son\")\n",
    "elif number < 0 and number % 2 == 0:\n",
    "    print(\"Manfiy juft son\")\n",
    "else:\n",
    "    print(\"Manfiy toq son\")\n"
   ]
  },
  {
   "cell_type": "code",
   "execution_count": null,
   "id": "78009dbb",
   "metadata": {},
   "outputs": [],
   "source": [
    "# 4st.\n",
    "num1 = float(input('Please enter first number: '))\n",
    "num2 = float(input('Please enter second number: '))\n",
    "num3 = float(input('Please enter third number: '))\n",
    "\n",
    "if num1 != num2 and num1!=num3 and num2!=num3:\n",
    "    print('Numbers are not equal')\n",
    "elif  num1 == num2 and num1==num3 and num2==num3: \n",
    "    print('Numbers are equal') \n",
    "else:\n",
    "    print('Some numbers are equal') \n"
   ]
  },
  {
   "cell_type": "code",
   "execution_count": null,
   "id": "8ba3aafa",
   "metadata": {},
   "outputs": [
    {
     "name": "stdout",
     "output_type": "stream",
     "text": [
      "Kiritilgan matnlar uzunligi teng emas\n"
     ]
    }
   ],
   "source": [
    "# 5st. Ikkita matn (string) qabul qilib, ularning uzunligi bir xil ekanligini tekshiradigan dastur tuzing.\n",
    "sentence1 = input('Enter sentence: ')\n",
    "sentence2 = input('Enter sentence: ')\n",
    "\n",
    "if len(sentence1.strip())==len(sentence2.strip()):\n",
    "    print('Kiritilgan matn uzunlgi teng ')\n",
    "else: \n",
    "    print('Kiritilgan matnlar uzunligi teng emas')"
   ]
  },
  {
   "cell_type": "code",
   "execution_count": 31,
   "id": "92a3b2be",
   "metadata": {},
   "outputs": [
    {
     "name": "stdout",
     "output_type": "stream",
     "text": [
      "Siz kiritgan son 3 va 5 ga bo`linmaydi\n"
     ]
    }
   ],
   "source": [
    "# 6st.  Biror sonni qabul qilib, u 3 va 5 ga bo‘linishini tekshiradigan dastur tuzing.\n",
    "num1 = int(input('Please enter the number: '))\n",
    "\n",
    "if num1 % 3==0 and num1 % 5==0:\n",
    "    print('Siz kiritgan son 3 ga va 5 ga bo`linadi')\n",
    "else:\n",
    "    print('Siz kiritgan son 3 va 5 ga bo`linmaydi')"
   ]
  },
  {
   "cell_type": "code",
   "execution_count": null,
   "id": "749f3cef",
   "metadata": {},
   "outputs": [
    {
     "name": "stdout",
     "output_type": "stream",
     "text": [
      "Yi'gindi 50 dan katta\n"
     ]
    }
   ],
   "source": [
    "# 7st.  Ikki sonning yig'indisi 50 dan katta ekanligini tekshiradigan dastur yozing.\n",
    "num1 = float(input('Please enter first number: '))\n",
    "num2 = float(input('Please enter second number: '))\n",
    "\n",
    "if (num1+num2)>50:\n",
    "    print('Yi\\'gindi 50 dan katta')\n",
    "elif (num1+num2)==50:\n",
    "    print('Yig\\'indi 50 ga teng')\n",
    "else:\n",
    "    print('Yig`indi 50 dan kichik')"
   ]
  },
  {
   "cell_type": "code",
   "execution_count": null,
   "id": "5778d433",
   "metadata": {},
   "outputs": [
    {
     "name": "stdout",
     "output_type": "stream",
     "text": [
      "Kiritilgan son 10 va 20 oralig`ida\n"
     ]
    }
   ],
   "source": [
    "# 8st. Berilgan son 10 va 20 oralig‘ida (shu sonlar bilan birga) ekanligini tekshiradigan dastur tuzing.\n",
    "number = float(input('Please enter first number: '))\n",
    "\n",
    "if number>=10 and number<=20:\n",
    "    print('Kiritilgan son 10 va 20 oralig`ida')\n",
    "else:\n",
    "    print('Kiritilgan son 10 va 20 oralig`ida emas')"
   ]
  },
  {
   "cell_type": "code",
   "execution_count": null,
   "id": "bfc01507",
   "metadata": {},
   "outputs": [],
   "source": []
  }
 ],
 "metadata": {
  "kernelspec": {
   "display_name": "Python 3",
   "language": "python",
   "name": "python3"
  },
  "language_info": {
   "codemirror_mode": {
    "name": "ipython",
    "version": 3
   },
   "file_extension": ".py",
   "mimetype": "text/x-python",
   "name": "python",
   "nbconvert_exporter": "python",
   "pygments_lexer": "ipython3",
   "version": "3.12.8"
  }
 },
 "nbformat": 4,
 "nbformat_minor": 5
}
