{
 "cells": [
  {
   "cell_type": "markdown",
   "id": "becfcc57",
   "metadata": {},
   "source": [
    "# Number Data Type Questions"
   ]
  },
  {
   "cell_type": "code",
   "execution_count": null,
   "id": "d21e574b",
   "metadata": {},
   "outputs": [
    {
     "name": "stdout",
     "output_type": "stream",
     "text": [
      "64.95\n"
     ]
    }
   ],
   "source": [
    "# 1st. Solution \n",
    "n = float(input('Please enter a number: '))\n",
    "print(round(n, 2))"
   ]
  },
  {
   "cell_type": "code",
   "execution_count": 7,
   "id": "5948e09a",
   "metadata": {},
   "outputs": [
    {
     "name": "stdout",
     "output_type": "stream",
     "text": [
      "Large number: 30.0 and  Small number: 10.0    \n"
     ]
    }
   ],
   "source": [
    "# 2st. Solution\n",
    "f_num = float(input('Please enter a number: '))\n",
    "s_num = float(input('Please enter a number: '))\n",
    "t_num = float(input('Please enter a number: '))\n",
    "\n",
    "print(f'Large number: {max(f_num, s_num,t_num)} and  Small number: {min(f_num, s_num,t_num)}    ')"
   ]
  },
  {
   "cell_type": "code",
   "execution_count": 11,
   "id": "a2f59113",
   "metadata": {},
   "outputs": [
    {
     "name": "stdout",
     "output_type": "stream",
     "text": [
      "Kilometer to metr: 10000.0 \n",
      "Kilometer to centimeter: 1000000.0\n"
     ]
    }
   ],
   "source": [
    "# 3st. Solution\n",
    "km = float(input('Please enter a km number: '))\n",
    "m = km*1000\n",
    "sm = km*100000\n",
    "\n",
    "print(f'Kilometer to metr: {m} \\nKilometer to centimeter: {sm}') "
   ]
  },
  {
   "cell_type": "code",
   "execution_count": null,
   "id": "ddba20d7",
   "metadata": {},
   "outputs": [
    {
     "name": "stdout",
     "output_type": "stream",
     "text": [
      "Integer part: 2  \n",
      "Remainder part: 3\n"
     ]
    }
   ],
   "source": [
    "# 4st. Solution\n",
    "num = divmod(17,7)\n",
    "\n",
    "print(f'Integer part: {num[0]}  \\nRemainder part: {num[1]}')"
   ]
  },
  {
   "cell_type": "code",
   "execution_count": 5,
   "id": "0a24ec81",
   "metadata": {},
   "outputs": [
    {
     "name": "stdout",
     "output_type": "stream",
     "text": [
      " 20.0 °C: = 68.0 °F \n"
     ]
    }
   ],
   "source": [
    "# 5st. Solution\n",
    "selcius = float(input('Enter selsius number: '))\n",
    "fahrenheit = selcius*1.8+32\n",
    "\n",
    "print(f' {selcius} °C: = {fahrenheit} °F ')"
   ]
  },
  {
   "cell_type": "code",
   "execution_count": null,
   "id": "d679a2a4",
   "metadata": {},
   "outputs": [
    {
     "name": "stdout",
     "output_type": "stream",
     "text": [
      "4\n"
     ]
    }
   ],
   "source": [
    "# 6st. Solution\n",
    "num = 19874456454\n",
    "st = str(num)\n",
    "print((st)[-1])"
   ]
  },
  {
   "cell_type": "markdown",
   "id": "0977601f",
   "metadata": {},
   "source": [
    "# String"
   ]
  },
  {
   "cell_type": "code",
   "execution_count": null,
   "id": "5313b92a",
   "metadata": {},
   "outputs": [
    {
     "name": "stdout",
     "output_type": "stream",
     "text": [
      "Your name is Shermukhammad  and you are 37 years old.\n"
     ]
    }
   ],
   "source": [
    "# 1st. Solution\n",
    "\n",
    "name = input('What`s your name: ')\n",
    "age = input('How old you: ')\n",
    "\n",
    "print(f'Your name is {name}  and you are {age} years old.')"
   ]
  },
  {
   "cell_type": "code",
   "execution_count": null,
   "id": "2e7dce84",
   "metadata": {},
   "outputs": [],
   "source": [
    "#   +0  +1  +2  +3  +4  +5  +6  +7  +8  +9 +10 +11 +12\n",
    "#    L   M   a   a   s   l   e   i   t   b   t   u   i\n",
    "#  -13 -12 -11 -10  -9  -8  -7  -6  -5  -4  -3  -2  -1\n"
   ]
  },
  {
   "cell_type": "code",
   "execution_count": 23,
   "id": "98ce1efb",
   "metadata": {},
   "outputs": [
    {
     "name": "stdout",
     "output_type": "stream",
     "text": [
      "Lasetti\n",
      "Malibu\n"
     ]
    }
   ],
   "source": [
    "# 2st. Solution Quyidagi matndan avtomobil nomlarini ajratib oling: txt = 'LMaasleitbtui'\n",
    "\n",
    "txt = 'LMaasleitbtui'\n",
    "print(txt[:13:2])\n",
    "print(txt[1:12:2])"
   ]
  },
  {
   "cell_type": "code",
   "execution_count": null,
   "id": "456f9afa",
   "metadata": {},
   "outputs": [
    {
     "name": "stdout",
     "output_type": "stream",
     "text": [
      "The length the words you entred: 16\n"
     ]
    }
   ],
   "source": [
    "# 3.1st.\n",
    "word = input('Enter the words: ')\n",
    "\n",
    "print(f'The length the words you entred: {len(word)}')\n"
   ]
  },
  {
   "cell_type": "code",
   "execution_count": null,
   "id": "36194f96",
   "metadata": {},
   "outputs": [
    {
     "name": "stdout",
     "output_type": "stream",
     "text": [
      "Large: PYTHON VERY NICE \n",
      "Small: python very nice\n"
     ]
    }
   ],
   "source": [
    "# 3.2st.\n",
    "word = input('Enter the words: ')\n",
    "\n",
    "print(f'Large: {(word.upper())} \\nSmall: {(word.lower())}')"
   ]
  },
  {
   "cell_type": "code",
   "execution_count": null,
   "id": "ef6fa9c6",
   "metadata": {},
   "outputs": [
    {
     "name": "stdout",
     "output_type": "stream",
     "text": [
      "polindrom\n"
     ]
    }
   ],
   "source": [
    "# 4st.\n",
    "first_palindrom = 'madam'\n",
    "second_palindrom = 'racecar'\n",
    "num_polindrom = '12321'\n",
    "\n",
    "if first_palindrom[0:5] == first_palindrom[::-1] and second_palindrom[0:7]==second_palindrom[::-1] and num_polindrom[0:5]==num_polindrom[::-1]:\n",
    "    print('polindrom') \n",
    "else:\n",
    "    print('No polindrom')"
   ]
  },
  {
   "cell_type": "code",
   "execution_count": 38,
   "id": "a5ef2e96",
   "metadata": {},
   "outputs": [
    {
     "name": "stdout",
     "output_type": "stream",
     "text": [
      "1\n",
      "1\n",
      "1\n",
      "1\n",
      "1\n",
      "1\n",
      "1\n",
      "1\n",
      "1\n",
      "1\n",
      "1\n",
      "1\n",
      "1\n",
      "1\n",
      "1\n",
      "1\n"
     ]
    }
   ],
   "source": [
    "# 5st.\n",
    "word = 'Assalomu aleykum'\n",
    "vowels = 'a, e, i, o, u'\n",
    "consonant = 'b, c, d, f, g, h, j, k, l, m, n, p, q, r, s, t, v, w, x, y, z'\n",
    "\n",
    "for  vowels in word:\n",
    "    print(len(vowels))"
   ]
  },
  {
   "cell_type": "code",
   "execution_count": null,
   "id": "2c9dd147",
   "metadata": {},
   "outputs": [],
   "source": []
  }
 ],
 "metadata": {
  "kernelspec": {
   "display_name": "Python 3",
   "language": "python",
   "name": "python3"
  },
  "language_info": {
   "codemirror_mode": {
    "name": "ipython",
    "version": 3
   },
   "file_extension": ".py",
   "mimetype": "text/x-python",
   "name": "python",
   "nbconvert_exporter": "python",
   "pygments_lexer": "ipython3",
   "version": "3.12.8"
  }
 },
 "nbformat": 4,
 "nbformat_minor": 5
}
