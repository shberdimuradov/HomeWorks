{
 "cells": [
  {
   "cell_type": "markdown",
   "id": "684b3c24",
   "metadata": {},
   "source": [
    "# Numeric part"
   ]
  },
  {
   "cell_type": "code",
   "execution_count": 1,
   "id": "1f0d1a5b",
   "metadata": {},
   "outputs": [
    {
     "name": "stdout",
     "output_type": "stream",
     "text": [
      "14000000000.0\n",
      "<class 'float'>\n"
     ]
    }
   ],
   "source": [
    "import math # built in library\n",
    "\n",
    "# pow = ** - built-in function\n",
    "# min, max\n",
    "\n",
    "# int\n",
    "# float\n",
    "\n",
    "a = 100_000_000\n",
    "b = 1.4e10\n",
    "print(b)\n",
    "print(type(b))\n",
    "\n"
   ]
  },
  {
   "cell_type": "code",
   "execution_count": 2,
   "id": "35b84c37",
   "metadata": {},
   "outputs": [
    {
     "name": "stdout",
     "output_type": "stream",
     "text": [
      "3.0\n"
     ]
    }
   ],
   "source": [
    "print(math.sqrt(9))\n",
    " "
   ]
  },
  {
   "cell_type": "code",
   "execution_count": 3,
   "id": "8213d6b8",
   "metadata": {},
   "outputs": [
    {
     "name": "stdout",
     "output_type": "stream",
     "text": [
      "5.0\n",
      "4.0\n",
      "100000000\n",
      "0\n"
     ]
    }
   ],
   "source": [
    "\n",
    "# complex\n",
    "\n",
    "c = 5 + 4j\n",
    "print(c.real)\n",
    "print(c.imag)\n",
    "print(a.real)\n",
    "print(a.imag)   "
   ]
  },
  {
   "cell_type": "markdown",
   "id": "71b02579",
   "metadata": {},
   "source": [
    "# Comments"
   ]
  },
  {
   "cell_type": "code",
   "execution_count": 4,
   "id": "122ababd",
   "metadata": {},
   "outputs": [],
   "source": [
    "# Single-line comment (#)\n",
    "# This variable stores the age\n",
    "age = 25"
   ]
  },
  {
   "cell_type": "code",
   "execution_count": 5,
   "id": "a38cbbaf",
   "metadata": {},
   "outputs": [],
   "source": [
    "#  Inline function comment\n",
    "def greet(name):  # Function to greet the user\n",
    "    print(f\"Hello, {name}!\")"
   ]
  },
  {
   "cell_type": "code",
   "execution_count": 6,
   "id": "a672068f",
   "metadata": {},
   "outputs": [
    {
     "ename": "ValueError",
     "evalue": "invalid literal for int() with base 10: ''",
     "output_type": "error",
     "traceback": [
      "\u001b[31m---------------------------------------------------------------------------\u001b[39m",
      "\u001b[31mValueError\u001b[39m                                Traceback (most recent call last)",
      "\u001b[36mCell\u001b[39m\u001b[36m \u001b[39m\u001b[32mIn[6]\u001b[39m\u001b[32m, line 6\u001b[39m\n\u001b[32m      1\u001b[39m \u001b[38;5;66;03m# Multi-line comment (using ''' or \"\"\")\u001b[39;00m\n\u001b[32m      2\u001b[39m \u001b[33;03m'''\u001b[39;00m\n\u001b[32m      3\u001b[39m \u001b[33;03mThis is the main part of the program.\u001b[39;00m\n\u001b[32m      4\u001b[39m \u001b[33;03mIt adds two numbers entered by the user.\u001b[39;00m\n\u001b[32m      5\u001b[39m \u001b[33;03m'''\u001b[39;00m\n\u001b[32m----> \u001b[39m\u001b[32m6\u001b[39m a = \u001b[38;5;28;43mint\u001b[39;49m\u001b[43m(\u001b[49m\u001b[38;5;28;43minput\u001b[39;49m\u001b[43m(\u001b[49m\u001b[33;43m\"\u001b[39;49m\u001b[33;43mFirst number: \u001b[39;49m\u001b[33;43m\"\u001b[39;49m\u001b[43m)\u001b[49m\u001b[43m)\u001b[49m\n\u001b[32m      7\u001b[39m b = \u001b[38;5;28mint\u001b[39m(\u001b[38;5;28minput\u001b[39m(\u001b[33m\"\u001b[39m\u001b[33mSecond number: \u001b[39m\u001b[33m\"\u001b[39m))\n\u001b[32m      8\u001b[39m \u001b[38;5;28mprint\u001b[39m(a + b)\n",
      "\u001b[31mValueError\u001b[39m: invalid literal for int() with base 10: ''"
     ]
    }
   ],
   "source": [
    "# Multi-line comment (using ''' or \"\"\")\n",
    "'''\n",
    "This is the main part of the program.\n",
    "It adds two numbers entered by the user.\n",
    "'''\n",
    "a = int(input(\"First number: \"))\n",
    "b = int(input(\"Second number: \"))\n",
    "print(a + b)\n"
   ]
  },
  {
   "cell_type": "code",
   "execution_count": null,
   "id": "e14e2eb1",
   "metadata": {},
   "outputs": [],
   "source": [
    "# Docstring (for functions or classes)\n",
    "def add(x, y):\n",
    "    \"\"\"\n",
    "    Adds two numbers together\n",
    "    \n",
    "    Arguments:\n",
    "    x (int): First number\n",
    "    y (int): Second number\n",
    "    \n",
    "    Returns:\n",
    "    int: Sum of the two numbers\n",
    "    \"\"\"\n",
    "    return x + y\n"
   ]
  },
  {
   "cell_type": "code",
   "execution_count": null,
   "id": "4a794f49",
   "metadata": {},
   "outputs": [
    {
     "name": "stdout",
     "output_type": "stream",
     "text": [
      "Welcome, Jack\n"
     ]
    }
   ],
   "source": [
    "# Comment for TODO marker\n",
    "# TODO: Need to validate user input\n",
    "user_input = input(\"Enter your name: \")\n",
    "print(f\"Welcome, {user_input}\")"
   ]
  },
  {
   "cell_type": "code",
   "execution_count": null,
   "id": "c48a1ef5",
   "metadata": {},
   "outputs": [
    {
     "name": "stdout",
     "output_type": "stream",
     "text": [
      "Access granted\n"
     ]
    }
   ],
   "source": [
    "# Comment inside a conditional block\n",
    "if age >= 18:\n",
    "    # If user is an adult, allow access\n",
    "    print(\"Access granted\")\n",
    "else:\n",
    "    # Otherwise, deny access\n",
    "    print(\"Access denied\")"
   ]
  },
  {
   "cell_type": "markdown",
   "id": "9632db44",
   "metadata": {},
   "source": [
    "# String part"
   ]
  },
  {
   "cell_type": "code",
   "execution_count": null,
   "id": "0e4f4c34",
   "metadata": {},
   "outputs": [],
   "source": [
    "# ' - single quote\n",
    "# \" - double quote\n",
    "# \" - double quote\n",
    "# \"\"\" - triple quote\n",
    "# \\ - back slash\n",
    "# / - forward slash\n",
    "# \\n - newline character"
   ]
  },
  {
   "cell_type": "code",
   "execution_count": null,
   "id": "9cf1666f",
   "metadata": {},
   "outputs": [
    {
     "name": "stdout",
     "output_type": "stream",
     "text": [
      "Hello\n",
      "MAAB Academy\n",
      "\n"
     ]
    }
   ],
   "source": [
    "hello = \"\"\"Hello\n",
    "MAAB Academy\n",
    "\"\"\"\n",
    "print(hello)"
   ]
  },
  {
   "cell_type": "code",
   "execution_count": null,
   "id": "11488522",
   "metadata": {},
   "outputs": [
    {
     "name": "stdout",
     "output_type": "stream",
     "text": [
      "Hello\n",
      "\n",
      "                MAAB Academy\n"
     ]
    }
   ],
   "source": [
    "halo = \"\"\"Hello\n",
    "\n",
    "                MAAB Academy\"\"\"\n",
    "print(halo)"
   ]
  },
  {
   "cell_type": "code",
   "execution_count": null,
   "id": "04b16393",
   "metadata": {},
   "outputs": [
    {
     "data": {
      "text/plain": [
       "'Hello MAAB \\nAcademy'"
      ]
     },
     "execution_count": 22,
     "metadata": {},
     "output_type": "execute_result"
    }
   ],
   "source": [
    "hi = 'Hello MAAB \\nAcademy'\n",
    "hi"
   ]
  },
  {
   "cell_type": "code",
   "execution_count": null,
   "id": "37547432",
   "metadata": {},
   "outputs": [
    {
     "name": "stdout",
     "output_type": "stream",
     "text": [
      "Hello MAAB \n",
      "Academy\n"
     ]
    }
   ],
   "source": [
    "hi = 'Hello MAAB \\nAcademy'\n",
    "print(hi)"
   ]
  },
  {
   "cell_type": "code",
   "execution_count": null,
   "id": "38e57a03",
   "metadata": {},
   "outputs": [
    {
     "data": {
      "text/plain": [
       "\"I'm chemist\""
      ]
     },
     "execution_count": 24,
     "metadata": {},
     "output_type": "execute_result"
    }
   ],
   "source": [
    "word = \"I'm chemist\"\n",
    "word"
   ]
  },
  {
   "cell_type": "code",
   "execution_count": null,
   "id": "3668c797",
   "metadata": {},
   "outputs": [
    {
     "name": "stdout",
     "output_type": "stream",
     "text": [
      "I'm chemist\n"
     ]
    }
   ],
   "source": [
    "print(word)"
   ]
  },
  {
   "cell_type": "code",
   "execution_count": null,
   "id": "09da6110",
   "metadata": {},
   "outputs": [
    {
     "ename": "SyntaxError",
     "evalue": "unterminated string literal (detected at line 2) (1766468161.py, line 2)",
     "output_type": "error",
     "traceback": [
      "  \u001b[36mCell\u001b[39m\u001b[36m \u001b[39m\u001b[32mIn[26]\u001b[39m\u001b[32m, line 2\u001b[39m\n\u001b[31m    \u001b[39m\u001b[31mspaces = 'G'dansk'\u001b[39m\n                     ^\n\u001b[31mSyntaxError\u001b[39m\u001b[31m:\u001b[39m unterminated string literal (detected at line 2)\n"
     ]
    }
   ],
   "source": [
    "# Error\n",
    "spaces = 'G'dansk'"
   ]
  },
  {
   "cell_type": "code",
   "execution_count": null,
   "id": "ffcc6f82",
   "metadata": {},
   "outputs": [
    {
     "data": {
      "text/plain": [
       "\"I'm a teacher\""
      ]
     },
     "execution_count": 29,
     "metadata": {},
     "output_type": "execute_result"
    }
   ],
   "source": [
    "words = 'I\\'m a teacher'\n",
    "words"
   ]
  },
  {
   "cell_type": "code",
   "execution_count": null,
   "id": "7a9af855",
   "metadata": {},
   "outputs": [
    {
     "name": "stdout",
     "output_type": "stream",
     "text": [
      "I'm a teacher\n"
     ]
    }
   ],
   "source": [
    "print(words)"
   ]
  },
  {
   "cell_type": "code",
   "execution_count": null,
   "id": "f92c2848",
   "metadata": {},
   "outputs": [
    {
     "data": {
      "text/plain": [
       "'Nawruz \\t bayrami'"
      ]
     },
     "execution_count": 35,
     "metadata": {},
     "output_type": "execute_result"
    }
   ],
   "source": [
    "# \\t -> tab -);\n",
    "happy = 'Nawruz \\t bayrami'\n",
    "happy"
   ]
  },
  {
   "cell_type": "code",
   "execution_count": null,
   "id": "5516eba9",
   "metadata": {},
   "outputs": [
    {
     "name": "stdout",
     "output_type": "stream",
     "text": [
      "Nawruz \t bayrami\n"
     ]
    }
   ],
   "source": [
    "print(happy)"
   ]
  },
  {
   "cell_type": "code",
   "execution_count": null,
   "id": "13195eb1",
   "metadata": {},
   "outputs": [
    {
     "data": {
      "text/plain": [
       "'Mateush \\\\ Mariush \\\\ Gjegoj'"
      ]
     },
     "execution_count": 36,
     "metadata": {},
     "output_type": "execute_result"
    }
   ],
   "source": [
    "my_friends = 'Mateush \\\\ Mariush \\\\ Gjegoj'\n",
    "my_friends"
   ]
  },
  {
   "cell_type": "code",
   "execution_count": null,
   "id": "bcb0689b",
   "metadata": {},
   "outputs": [
    {
     "name": "stdout",
     "output_type": "stream",
     "text": [
      "Mateush \\ Mariush \\ Gjegoj\n"
     ]
    }
   ],
   "source": [
    "print(my_friends)"
   ]
  },
  {
   "cell_type": "code",
   "execution_count": null,
   "id": "d9f82a80",
   "metadata": {},
   "outputs": [
    {
     "name": "stderr",
     "output_type": "stream",
     "text": [
      "<>:1: SyntaxWarning: invalid escape sequence '\\P'\n",
      "<>:1: SyntaxWarning: invalid escape sequence '\\P'\n",
      "G:\\TEMP\\Temp\\ipykernel_4436\\2344942926.py:1: SyntaxWarning: invalid escape sequence '\\P'\n",
      "  directory = \"D:\\Python DB\\PythonHomeWorks\\bLesson 1\"\n"
     ]
    },
    {
     "data": {
      "text/plain": [
       "'D:\\\\Python DB\\\\PythonHomeWorks\\x08Lesson 1'"
      ]
     },
     "execution_count": 41,
     "metadata": {},
     "output_type": "execute_result"
    }
   ],
   "source": [
    "directory = \"D:\\Python DB\\PythonHomeWorks\\bLesson 1\"\n",
    "directory"
   ]
  },
  {
   "cell_type": "code",
   "execution_count": null,
   "id": "c943d50f",
   "metadata": {},
   "outputs": [
    {
     "name": "stdout",
     "output_type": "stream",
     "text": [
      "D:\\Python DB\\PythonHomeWorkLesson 1\n"
     ]
    }
   ],
   "source": [
    "print(directory)"
   ]
  },
  {
   "cell_type": "code",
   "execution_count": null,
   "id": "5cf7c4c7",
   "metadata": {},
   "outputs": [
    {
     "data": {
      "text/plain": [
       "'D:\\\\Python DB\\\\PythonHomeWorks\\\\bLesson 1'"
      ]
     },
     "execution_count": 44,
     "metadata": {},
     "output_type": "execute_result"
    }
   ],
   "source": [
    "directory1 = \"D:\\\\Python DB\\\\PythonHomeWorks\\\\bLesson 1\"\n",
    "directory1"
   ]
  },
  {
   "cell_type": "code",
   "execution_count": null,
   "id": "030651e6",
   "metadata": {},
   "outputs": [
    {
     "name": "stdout",
     "output_type": "stream",
     "text": [
      "D:\\Python DB\\PythonHomeWorks\\bLesson 1\n"
     ]
    }
   ],
   "source": [
    "print(directory1)"
   ]
  },
  {
   "cell_type": "code",
   "execution_count": null,
   "id": "f508e1d1",
   "metadata": {},
   "outputs": [
    {
     "data": {
      "text/plain": [
       "'D:\\\\\\\\Python DB\\\\\\\\PythonHomeWorks\\\\\\\\bLesson 1'"
      ]
     },
     "execution_count": 46,
     "metadata": {},
     "output_type": "execute_result"
    }
   ],
   "source": [
    "directory2 = r\"D:\\\\Python DB\\\\PythonHomeWorks\\\\bLesson 1\"\n",
    "directory2"
   ]
  },
  {
   "cell_type": "code",
   "execution_count": null,
   "id": "c7508f4f",
   "metadata": {},
   "outputs": [
    {
     "name": "stdout",
     "output_type": "stream",
     "text": [
      "D:\\\\Python DB\\\\PythonHomeWorks\\\\bLesson 1\n"
     ]
    }
   ],
   "source": [
    "print(directory2)"
   ]
  },
  {
   "cell_type": "code",
   "execution_count": null,
   "id": "3e98e578",
   "metadata": {},
   "outputs": [
    {
     "name": "stdout",
     "output_type": "stream",
     "text": [
      "<class 'str'>\n",
      "<class 'str'>\n"
     ]
    }
   ],
   "source": [
    "print(type(directory1))\n",
    "print(type(directory2))\n"
   ]
  },
  {
   "cell_type": "markdown",
   "id": "e406fd50",
   "metadata": {},
   "source": [
    "# String Simple app"
   ]
  },
  {
   "cell_type": "code",
   "execution_count": null,
   "id": "71c89936",
   "metadata": {},
   "outputs": [
    {
     "name": "stdout",
     "output_type": "stream",
     "text": [
      "Your name is:  Shermukhammad,  and your are 37 yers old\n"
     ]
    }
   ],
   "source": [
    "name = input('What is your name?: ')\n",
    "age = int(input('Age: '))\n",
    "\n",
    "print(f'Your name is:  {name},  and your are {age} yers old')"
   ]
  },
  {
   "cell_type": "code",
   "execution_count": null,
   "id": "0072f4af",
   "metadata": {},
   "outputs": [
    {
     "name": "stdout",
     "output_type": "stream",
     "text": [
      "Your name is: Shermukhammadand your are 37 yers old\n"
     ]
    }
   ],
   "source": [
    "name = input('What is your name?: ')\n",
    "age = int(input('Age: '))\n",
    "\n",
    "print('Your name is: ' + name +  'and your are ' + str(age) + ' yers old')"
   ]
  },
  {
   "cell_type": "code",
   "execution_count": null,
   "id": "f0584db9",
   "metadata": {},
   "outputs": [
    {
     "name": "stdout",
     "output_type": "stream",
     "text": [
      "Your name is:   {name}   and your are   {age}   yers old\n"
     ]
    }
   ],
   "source": [
    "name = input('What is your name?: ')\n",
    "age = int(input('Age: '))\n",
    "\n",
    "print('Your name is:   {name}   and your are   {age}   yers old')"
   ]
  },
  {
   "cell_type": "code",
   "execution_count": null,
   "id": "101d6c92",
   "metadata": {},
   "outputs": [
    {
     "name": "stdout",
     "output_type": "stream",
     "text": [
      "Your name is:   Shermukhammad   and your are   37   yers old\n"
     ]
    }
   ],
   "source": [
    "name = input('What is your name?: ')\n",
    "age = int(input('Age: '))\n",
    "\n",
    "print('Your name is:   {name}   and your are   {age}   yers old'.format(name=name, age=age))"
   ]
  },
  {
   "cell_type": "code",
   "execution_count": null,
   "id": "97682dc0",
   "metadata": {},
   "outputs": [
    {
     "name": "stdout",
     "output_type": "stream",
     "text": [
      "Your name is:   Shermukhammad   and your are   37   yers old\n"
     ]
    }
   ],
   "source": [
    "name = input('What is your name?: ')\n",
    "age = int(input('Age: '))\n",
    "\n",
    "print('Your name is:   {}   and your are   {}   yers old'.format(name, age))"
   ]
  },
  {
   "cell_type": "code",
   "execution_count": null,
   "id": "209ed3f8",
   "metadata": {},
   "outputs": [
    {
     "name": "stdout",
     "output_type": "stream",
     "text": [
      "24.87656564\n"
     ]
    }
   ],
   "source": [
    "n = 24.87656564\n",
    "print(f'{n}')"
   ]
  },
  {
   "cell_type": "code",
   "execution_count": null,
   "id": "0bf72611",
   "metadata": {},
   "outputs": [
    {
     "name": "stdout",
     "output_type": "stream",
     "text": [
      "n=24.87656564\n"
     ]
    }
   ],
   "source": [
    "n = 24.87656564\n",
    "print(f'{n=}')"
   ]
  },
  {
   "cell_type": "code",
   "execution_count": null,
   "id": "402ccde4",
   "metadata": {},
   "outputs": [
    {
     "name": "stdout",
     "output_type": "stream",
     "text": [
      "24.88\n"
     ]
    }
   ],
   "source": [
    "n = 24.87656564\n",
    "print(f'{n:.2f}')"
   ]
  },
  {
   "cell_type": "code",
   "execution_count": null,
   "id": "89fd57bc",
   "metadata": {},
   "outputs": [
    {
     "name": "stdout",
     "output_type": "stream",
     "text": [
      "24.8766\n"
     ]
    }
   ],
   "source": [
    "n = 24.87656564\n",
    "print(f'{n:.4f}')"
   ]
  },
  {
   "cell_type": "code",
   "execution_count": null,
   "id": "d624306c",
   "metadata": {},
   "outputs": [
    {
     "name": "stdout",
     "output_type": "stream",
     "text": [
      "First name: Djoana Gemonotta and  Second name: Lady Gaga\n"
     ]
    }
   ],
   "source": [
    "# concatination for strings\n",
    "name1 = 'Djoana Gemonotta'\n",
    "name2 = 'Lady Gaga'\n",
    "\n",
    "print(f'First name: {name1} and  Second name: {name2}' )"
   ]
  },
  {
   "cell_type": "code",
   "execution_count": null,
   "id": "56309c1c",
   "metadata": {},
   "outputs": [
    {
     "name": "stdout",
     "output_type": "stream",
     "text": [
      "Djoana Gemonotta - First name:\n",
      "Lady Gaga - Second name:\n"
     ]
    }
   ],
   "source": [
    "name1 = 'Djoana Gemonotta'\n",
    "name2 = 'Lady Gaga'\n",
    "\n",
    "print(f'{name1:<10} - First name:')\n",
    "print(f'{name2:<2} - Second name:')"
   ]
  },
  {
   "cell_type": "code",
   "execution_count": null,
   "id": "a90c216a",
   "metadata": {},
   "outputs": [
    {
     "name": "stdout",
     "output_type": "stream",
     "text": [
      "11\n"
     ]
    }
   ],
   "source": [
    "# find word length\n",
    "print(len('Hello World'))\n"
   ]
  },
  {
   "cell_type": "code",
   "execution_count": null,
   "id": "cd123d33",
   "metadata": {},
   "outputs": [],
   "source": [
    "# Error types\n",
    "\n",
    "# SyntaxError\n",
    "# TypeError\n",
    "# ValueError\n",
    "# IndexError"
   ]
  },
  {
   "cell_type": "markdown",
   "id": "478a17cf",
   "metadata": {},
   "source": [
    "#  Slicing or indexing"
   ]
  },
  {
   "cell_type": "code",
   "execution_count": null,
   "id": "ab97d603",
   "metadata": {},
   "outputs": [
    {
     "data": {
      "text/plain": [
       "\"I'm happy \""
      ]
     },
     "execution_count": 91,
     "metadata": {},
     "output_type": "execute_result"
    }
   ],
   "source": [
    "      #0123456789   \n",
    "vow = 'I\\'m happy '\n",
    "vow"
   ]
  },
  {
   "cell_type": "code",
   "execution_count": null,
   "id": "649443a1",
   "metadata": {},
   "outputs": [
    {
     "data": {
      "text/plain": [
       "10"
      ]
     },
     "execution_count": 90,
     "metadata": {},
     "output_type": "execute_result"
    }
   ],
   "source": [
    "len(vow)"
   ]
  },
  {
   "cell_type": "code",
   "execution_count": null,
   "id": "f3e1a4c2",
   "metadata": {},
   "outputs": [
    {
     "data": {
      "text/plain": [
       "'I'"
      ]
     },
     "execution_count": 86,
     "metadata": {},
     "output_type": "execute_result"
    }
   ],
   "source": [
    "vow[0]"
   ]
  },
  {
   "cell_type": "code",
   "execution_count": null,
   "id": "dcd9ec93",
   "metadata": {},
   "outputs": [
    {
     "ename": "IndexError",
     "evalue": "string index out of range",
     "output_type": "error",
     "traceback": [
      "\u001b[31m---------------------------------------------------------------------------\u001b[39m",
      "\u001b[31mIndexError\u001b[39m                                Traceback (most recent call last)",
      "\u001b[36mCell\u001b[39m\u001b[36m \u001b[39m\u001b[32mIn[92]\u001b[39m\u001b[32m, line 1\u001b[39m\n\u001b[32m----> \u001b[39m\u001b[32m1\u001b[39m \u001b[43mvow\u001b[49m\u001b[43m[\u001b[49m\u001b[32;43m11\u001b[39;49m\u001b[43m]\u001b[49m\n",
      "\u001b[31mIndexError\u001b[39m: string index out of range"
     ]
    }
   ],
   "source": [
    "# attention Error\n",
    "vow[11]"
   ]
  },
  {
   "cell_type": "code",
   "execution_count": null,
   "id": "e13e5caf",
   "metadata": {},
   "outputs": [
    {
     "data": {
      "text/plain": [
       "'happy'"
      ]
     },
     "execution_count": 94,
     "metadata": {},
     "output_type": "execute_result"
    }
   ],
   "source": [
    "vow[4:9]"
   ]
  },
  {
   "cell_type": "code",
   "execution_count": null,
   "id": "fef6d9cc",
   "metadata": {},
   "outputs": [
    {
     "data": {
      "text/plain": [
       "\" yppah m'I\""
      ]
     },
     "execution_count": 95,
     "metadata": {},
     "output_type": "execute_result"
    }
   ],
   "source": [
    "vow[::-1]"
   ]
  },
  {
   "cell_type": "code",
   "execution_count": null,
   "id": "455cc903",
   "metadata": {},
   "outputs": [
    {
     "data": {
      "text/plain": [
       "\"I'm happy\""
      ]
     },
     "execution_count": 96,
     "metadata": {},
     "output_type": "execute_result"
    }
   ],
   "source": [
    "vow[:-1]"
   ]
  },
  {
   "cell_type": "code",
   "execution_count": null,
   "id": "5457d638",
   "metadata": {},
   "outputs": [
    {
     "name": "stdout",
     "output_type": "stream",
     "text": [
      "World\n",
      "Hello\n",
      "Hlo ol!\n"
     ]
    }
   ],
   "source": [
    "text = \"Hello, World!\"\n",
    "print(text[7:12])    # 'World'\n",
    "print(text[:5])      # 'Hello'\n",
    "print(text[::2])     # 'Hlo ol!' (har ikkinchi belgi)\n"
   ]
  },
  {
   "cell_type": "code",
   "execution_count": null,
   "id": "a4d382b9",
   "metadata": {},
   "outputs": [
    {
     "name": "stdout",
     "output_type": "stream",
     "text": [
      "Hel, W\n"
     ]
    }
   ],
   "source": [
    "print(text[0:3] + text[5:8])"
   ]
  },
  {
   "cell_type": "code",
   "execution_count": 14,
   "id": "343d6b78",
   "metadata": {},
   "outputs": [],
   "source": [
    "#   +0  +1  +2  +3  +4  +5  +6  +7  +8  +9 +10\n",
    "#    H   e   l   l   o       w   o   r   l  d\n",
    "#  -11 -10  -9  -8  -7  -6  -5  -4  -3  -2 -1\n",
    "\n",
    "s = \"Hello world\""
   ]
  },
  {
   "cell_type": "code",
   "execution_count": 10,
   "id": "82be439d",
   "metadata": {},
   "outputs": [
    {
     "data": {
      "text/plain": [
       "'el ol'"
      ]
     },
     "execution_count": 10,
     "metadata": {},
     "output_type": "execute_result"
    }
   ],
   "source": [
    "s[1::2]\n"
   ]
  },
  {
   "cell_type": "code",
   "execution_count": 12,
   "id": "bbdcab72",
   "metadata": {},
   "outputs": [
    {
     "data": {
      "text/plain": [
       "'Hlwl'"
      ]
     },
     "execution_count": 12,
     "metadata": {},
     "output_type": "execute_result"
    }
   ],
   "source": [
    "s[::3]\n"
   ]
  },
  {
   "cell_type": "code",
   "execution_count": 13,
   "id": "9938b5a4",
   "metadata": {},
   "outputs": [
    {
     "data": {
      "text/plain": [
       "'dlrow olleH'"
      ]
     },
     "execution_count": 13,
     "metadata": {},
     "output_type": "execute_result"
    }
   ],
   "source": [
    "s[::-1]"
   ]
  },
  {
   "cell_type": "code",
   "execution_count": 18,
   "id": "dddee4b5",
   "metadata": {},
   "outputs": [
    {
     "data": {
      "text/plain": [
       "'worl'"
      ]
     },
     "execution_count": 18,
     "metadata": {},
     "output_type": "execute_result"
    }
   ],
   "source": [
    "s[-5:-1]"
   ]
  },
  {
   "cell_type": "code",
   "execution_count": 19,
   "id": "ba0bbe1b",
   "metadata": {},
   "outputs": [
    {
     "data": {
      "text/plain": [
       "'world'"
      ]
     },
     "execution_count": 19,
     "metadata": {},
     "output_type": "execute_result"
    }
   ],
   "source": [
    "s[-5:]"
   ]
  },
  {
   "cell_type": "code",
   "execution_count": 23,
   "id": "4e9e964f",
   "metadata": {},
   "outputs": [
    {
     "name": "stdout",
     "output_type": "stream",
     "text": [
      "Last character is:  Aleykum\n"
     ]
    }
   ],
   "source": [
    "word = input('Word: ')\n",
    "\n",
    "print('Last character is: ' + word[-8:])"
   ]
  },
  {
   "cell_type": "code",
   "execution_count": 25,
   "id": "d192a5f5",
   "metadata": {},
   "outputs": [
    {
     "name": "stdout",
     "output_type": "stream",
     "text": [
      "Last charachter is : d\n",
      "Last charachter is :  {'d'}\n"
     ]
    }
   ],
   "source": [
    "word = input('Word: ')\n",
    "\n",
    "last_character = word[len(word)-1]\n",
    "print(f\"Last charachter is : {last_character}\")\n",
    "print(\"Last charachter is : \",  {last_character})"
   ]
  },
  {
   "cell_type": "markdown",
   "id": "af7d0fe0",
   "metadata": {},
   "source": [
    "# Mutable and Immutable(o`zgaruvchan va o`zgarmas)"
   ]
  },
  {
   "cell_type": "code",
   "execution_count": 27,
   "id": "83c08d91",
   "metadata": {},
   "outputs": [
    {
     "name": "stdout",
     "output_type": "stream",
     "text": [
      "apple\n"
     ]
    }
   ],
   "source": [
    "my_str = 'Apple'\n",
    "my_str = 'a' + my_str[1:]\n",
    "print(my_str) "
   ]
  },
  {
   "cell_type": "code",
   "execution_count": null,
   "id": "3b42ae99",
   "metadata": {},
   "outputs": [
    {
     "name": "stdout",
     "output_type": "stream",
     "text": [
      "1528539206528\n",
      "[1, 2, 3, 4]\n",
      "1528539206528\n"
     ]
    }
   ],
   "source": [
    "# Mutable \n",
    "my_list = [1, 2, 3]\n",
    "print(id(my_list))  # Example: 1528539206528\n",
    "\n",
    "my_list.append(4)\n",
    "print(my_list)      # [1, 2, 3, 4]\n",
    "print(id(my_list))  #ID It never changes."
   ]
  },
  {
   "cell_type": "code",
   "execution_count": 31,
   "id": "d1e0cb61",
   "metadata": {},
   "outputs": [
    {
     "name": "stdout",
     "output_type": "stream",
     "text": [
      "{'name': 'Ali', 'age': 25}\n",
      "1528539225664\n"
     ]
    }
   ],
   "source": [
    "person = {\"name\": \"Ali\"}\n",
    "person[\"age\"] = 25\n",
    "print(person)  # {'name': 'Ali', 'age': 25}\n",
    "print(id(person))"
   ]
  },
  {
   "cell_type": "code",
   "execution_count": 36,
   "id": "82d54e7e",
   "metadata": {},
   "outputs": [
    {
     "name": "stdout",
     "output_type": "stream",
     "text": [
      "1528527929184\n",
      "hello world\n",
      "1528539402992\n"
     ]
    }
   ],
   "source": [
    "# Immutable in str\n",
    "s = \"hello\"\n",
    "print(id(s))  # Examole: 1403687549968\n",
    "\n",
    "s += \" world\"  # s = s + \" world\"\n",
    "print(s)       # 'hello world'\n",
    "print(id(s))   # ID changes!\n",
    "\n",
    "# \"Note: The operation s += \" world\" created a new string, and the old one was discarded. \n",
    "# The memory address changed. This is what 'immutable' means.\""
   ]
  },
  {
   "cell_type": "code",
   "execution_count": null,
   "id": "11631504",
   "metadata": {},
   "outputs": [
    {
     "ename": "TypeError",
     "evalue": "'tuple' object does not support item assignment",
     "output_type": "error",
     "traceback": [
      "\u001b[31m---------------------------------------------------------------------------\u001b[39m",
      "\u001b[31mTypeError\u001b[39m                                 Traceback (most recent call last)",
      "\u001b[36mCell\u001b[39m\u001b[36m \u001b[39m\u001b[32mIn[40]\u001b[39m\u001b[32m, line 3\u001b[39m\n\u001b[32m      1\u001b[39m t = (\u001b[32m1\u001b[39m, \u001b[32m2\u001b[39m, \u001b[32m3\u001b[39m)\n\u001b[32m----> \u001b[39m\u001b[32m3\u001b[39m \u001b[43mt\u001b[49m\u001b[43m[\u001b[49m\u001b[32;43m0\u001b[39;49m\u001b[43m]\u001b[49m = \u001b[32m10\u001b[39m  \u001b[38;5;66;03m# Xato: TypeError: 'tuple' object does not support item assignment\u001b[39;00m\n",
      "\u001b[31mTypeError\u001b[39m: 'tuple' object does not support item assignment"
     ]
    }
   ],
   "source": [
    "t = (1, 2, 3)\n",
    "t\n",
    "# t[0] = 10  # Xato: TypeError: 'tuple' object does not support item assignment"
   ]
  },
  {
   "cell_type": "code",
   "execution_count": 41,
   "id": "e8e7ac53",
   "metadata": {},
   "outputs": [
    {
     "data": {
      "text/plain": [
       "(1, 2, 3)"
      ]
     },
     "execution_count": 41,
     "metadata": {},
     "output_type": "execute_result"
    }
   ],
   "source": [
    "t = (1, 2, 3)\n",
    "t\n",
    "# t[0] = 10  # Xato: TypeError: 'tuple' object does not support item assignment"
   ]
  },
  {
   "cell_type": "markdown",
   "id": "4a18436c",
   "metadata": {},
   "source": [
    "# str methods"
   ]
  },
  {
   "cell_type": "code",
   "execution_count": 58,
   "id": "e287e38f",
   "metadata": {},
   "outputs": [
    {
     "data": {
      "text/plain": [
       "'apple banana'"
      ]
     },
     "execution_count": 58,
     "metadata": {},
     "output_type": "execute_result"
    }
   ],
   "source": [
    "fruit = 'apple banana'\n",
    "fruit.lower()"
   ]
  },
  {
   "cell_type": "code",
   "execution_count": 61,
   "id": "4c75b8f9",
   "metadata": {},
   "outputs": [
    {
     "data": {
      "text/plain": [
       "'Apple banana'"
      ]
     },
     "execution_count": 61,
     "metadata": {},
     "output_type": "execute_result"
    }
   ],
   "source": [
    "fruit = 'apple banana'\n",
    "fruit.capitalize()"
   ]
  },
  {
   "cell_type": "code",
   "execution_count": 62,
   "id": "eb44a4bf",
   "metadata": {},
   "outputs": [
    {
     "data": {
      "text/plain": [
       "'APPLE BANANA'"
      ]
     },
     "execution_count": 62,
     "metadata": {},
     "output_type": "execute_result"
    }
   ],
   "source": [
    "fruit = 'apple banana'\n",
    "fruit.upper()"
   ]
  },
  {
   "cell_type": "code",
   "execution_count": 63,
   "id": "021311cf",
   "metadata": {},
   "outputs": [
    {
     "data": {
      "text/plain": [
       "'Apple Banana'"
      ]
     },
     "execution_count": 63,
     "metadata": {},
     "output_type": "execute_result"
    }
   ],
   "source": [
    "fruit = 'apple banana'\n",
    "fruit.title()"
   ]
  },
  {
   "cell_type": "code",
   "execution_count": 67,
   "id": "745a146a",
   "metadata": {},
   "outputs": [
    {
     "name": "stdout",
     "output_type": "stream",
     "text": [
      "True\n"
     ]
    }
   ],
   "source": [
    "print(fruit.endswith('a')) #banan(a)<-"
   ]
  },
  {
   "cell_type": "code",
   "execution_count": null,
   "id": "9f43feed",
   "metadata": {},
   "outputs": [],
   "source": []
  }
 ],
 "metadata": {
  "kernelspec": {
   "display_name": "Python 3",
   "language": "python",
   "name": "python3"
  },
  "language_info": {
   "codemirror_mode": {
    "name": "ipython",
    "version": 3
   },
   "file_extension": ".py",
   "mimetype": "text/x-python",
   "name": "python",
   "nbconvert_exporter": "python",
   "pygments_lexer": "ipython3",
   "version": "3.12.8"
  }
 },
 "nbformat": 4,
 "nbformat_minor": 5
}
