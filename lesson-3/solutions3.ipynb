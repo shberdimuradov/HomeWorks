{
 "cells": [
  {
   "cell_type": "markdown",
   "id": "e3286569",
   "metadata": {},
   "source": [
    "# List"
   ]
  },
  {
   "cell_type": "code",
   "execution_count": null,
   "id": "f9ef0e13",
   "metadata": {},
   "outputs": [
    {
     "name": "stdout",
     "output_type": "stream",
     "text": [
      "2\n"
     ]
    }
   ],
   "source": [
    "# 1st.Given a list and an element, find how many times the element appears in the list.\n",
    "# Berilgan ro‘yxat va element bo‘yicha, element ro‘yxatda nechta marta uchrashini toping.\n",
    "fruits = ['apple', 'banana', 'mango', 'apple' ]\n",
    "count = fruits.count('apple')\n",
    "print(count)"
   ]
  },
  {
   "cell_type": "code",
   "execution_count": 8,
   "id": "ec1425c6",
   "metadata": {},
   "outputs": [
    {
     "name": "stdout",
     "output_type": "stream",
     "text": [
      "15\n"
     ]
    }
   ],
   "source": [
    "# # 2st.Sum of Elements\n",
    "# Given a list of numbers, calculate the total of all the elements.\n",
    "# Berilgan sonlar ro‘yxatidagi barcha elementlar yig‘indisini hisoblang.\n",
    "numbers = [1,2,3,4,5]\n",
    "print(sum(numbers))\n"
   ]
  },
  {
   "cell_type": "code",
   "execution_count": 12,
   "id": "ccf6e605",
   "metadata": {},
   "outputs": [
    {
     "name": "stdout",
     "output_type": "stream",
     "text": [
      "5\n"
     ]
    }
   ],
   "source": [
    "# # 3st.From a given list, determine the largest element.\n",
    "# Ro‘yxatdan eng katta elementni aniqlang.\n",
    "numbers = [1,2,3,4,5]\n",
    "print(max(numbers))"
   ]
  },
  {
   "cell_type": "code",
   "execution_count": 13,
   "id": "2b29adc9",
   "metadata": {},
   "outputs": [
    {
     "name": "stdout",
     "output_type": "stream",
     "text": [
      "1\n"
     ]
    }
   ],
   "source": [
    "# # 4st.From a given list, determine the smallest element.\n",
    "# Ro‘yxatdan eng kichik elementni aniqlang.\n",
    "numbers = [1,2,3,4,5]\n",
    "print(min(numbers))"
   ]
  },
  {
   "cell_type": "code",
   "execution_count": 15,
   "id": "24423abc",
   "metadata": {},
   "outputs": [
    {
     "data": {
      "text/plain": [
       "True"
      ]
     },
     "execution_count": 15,
     "metadata": {},
     "output_type": "execute_result"
    }
   ],
   "source": [
    "# # 5st.Given a list and an element, check if the element is present in the list.\n",
    "# Ro‘yxatda ma’lum bir element mavjudligini tekshiring.\n",
    "substances = ['gelium', 'oxigenium', 'selenium', 'hydrogium', 'gold']\n",
    "'gold' in substances"
   ]
  },
  {
   "cell_type": "code",
   "execution_count": null,
   "id": "635ace69",
   "metadata": {},
   "outputs": [
    {
     "name": "stdout",
     "output_type": "stream",
     "text": [
      "\n"
     ]
    }
   ],
   "source": [
    "# # 6st. Access the first element of a list, considering what to return if the list is empty.\n",
    "# Ro‘yxatdagi birinchi elementni oling, agar ro‘yxat bo‘sh bo‘lsa, nimani qaytarishni hisobga oling.\n",
    "substances = ['gelium', 'oxigenium', 'selenium', 'hydrogium', 'gold']\n",
    "\n",
    "if substances:\n",
    "    print(substances[0])\n",
    "else:\n",
    "    print(\"Bo'sh qiymat\")\n"
   ]
  },
  {
   "cell_type": "code",
   "execution_count": 23,
   "id": "86a8645e",
   "metadata": {},
   "outputs": [
    {
     "name": "stdout",
     "output_type": "stream",
     "text": [
      "gold\n"
     ]
    }
   ],
   "source": [
    "# # 7st.Access the last element of a list, considering what to return if the list is empty.\n",
    "# Ro‘yxatdagi oxirgi elementni oling, agar ro‘yxat bo‘sh bo‘lsa, nimani qaytarishni hisobga oling.\n",
    "substances = ['gelium', 'oxigenium', 'selenium', 'hydrogium', 'gold']\n",
    "\n",
    "if substances:\n",
    "    print(substances[-1])\n",
    "else:\n",
    "    print(\"Bo'sh qiymat\")"
   ]
  },
  {
   "cell_type": "code",
   "execution_count": 25,
   "id": "a9c715ac",
   "metadata": {},
   "outputs": [
    {
     "name": "stdout",
     "output_type": "stream",
     "text": [
      "['gelium', 'oxigenium', 'selenium']\n"
     ]
    }
   ],
   "source": [
    "# # 8st.Create a new list that contains only the first three elements of the original list.\n",
    "# Ro‘yxatning faqat birinchi uchta elementini o‘z ichiga olgan yangi ro‘yxat yarating.\n",
    "\n",
    "substances = ['gelium', 'oxigenium', 'selenium', 'hydrogium', 'gold']\n",
    "print(substances[:3])\n",
    "\n",
    "\n"
   ]
  },
  {
   "cell_type": "code",
   "execution_count": 26,
   "id": "8c149c21",
   "metadata": {},
   "outputs": [
    {
     "name": "stdout",
     "output_type": "stream",
     "text": [
      "['gold', 'hydrogium', 'selenium', 'oxigenium', 'gelium']\n"
     ]
    }
   ],
   "source": [
    "# # 9st. Create a new list that contains the elements in reverse order.\n",
    "# Ro‘yxat elementlarini teskari tartibda o‘z ichiga olgan yangi ro‘yxat yarating.\n",
    "substances = ['gelium', 'oxigenium', 'selenium', 'hydrogium', 'gold']\n",
    "print(substances[::-1])"
   ]
  },
  {
   "cell_type": "code",
   "execution_count": 43,
   "id": "605184b5",
   "metadata": {},
   "outputs": [
    {
     "name": "stdout",
     "output_type": "stream",
     "text": [
      "[1, 2, 3, 5, 6, 7, 8, 9, 10, 12]\n"
     ]
    }
   ],
   "source": [
    "# # 10st. Create a new list that contains the elements in sorted order.\n",
    "# Elementlari saralangan (ko‘payish tartibida) yangi ro‘yxat yarating.\n",
    "numbers = [1,10,3,2,5,6,7,8,9,12]\n",
    "new_list = sorted(numbers)\n",
    "print(new_list)\n"
   ]
  },
  {
   "cell_type": "code",
   "execution_count": 46,
   "id": "42c742a7",
   "metadata": {},
   "outputs": [
    {
     "name": "stdout",
     "output_type": "stream",
     "text": [
      "{1, 2, 3, 4, 5, 6, 8}\n"
     ]
    }
   ],
   "source": [
    "# # 11st.Create a new list that contains only unique elements.\n",
    "# Faqat yagona elementlardan iborat yangi ro‘yxat yarating.\n",
    "nums = [1,2,3,1,4,5,6,2,5,8]\n",
    "new_nums = set(nums)\n",
    "print(new_nums)\n"
   ]
  },
  {
   "cell_type": "code",
   "execution_count": null,
   "id": "24e63eb4",
   "metadata": {},
   "outputs": [
    {
     "name": "stdout",
     "output_type": "stream",
     "text": [
      "['banana', 'papaya', 'orange', 'grusha']\n"
     ]
    }
   ],
   "source": [
    "# # 12st.Insert an element at a specified index in the list.\n",
    "# Berilgan indeksga elementni joylashtiring.\n",
    "fruits = ['banana', 'papaya', 'orange']\n",
    "fruits.insert(3,'grusha')\n",
    "print(fruits)"
   ]
  },
  {
   "cell_type": "code",
   "execution_count": 59,
   "id": "def23330",
   "metadata": {},
   "outputs": [
    {
     "name": "stdout",
     "output_type": "stream",
     "text": [
      "1\n"
     ]
    }
   ],
   "source": [
    "# # 13st. Find the index of the first occurrence of the element.\n",
    "# Elementning ro‘yxatda birinchi uchragan indeksini toping.'\n",
    "nums = [4, 7, 2, 7, 9]\n",
    "print(nums.index(7))\n"
   ]
  },
  {
   "cell_type": "code",
   "execution_count": 63,
   "id": "a181980e",
   "metadata": {},
   "outputs": [
    {
     "name": "stdout",
     "output_type": "stream",
     "text": [
      "False\n"
     ]
    }
   ],
   "source": [
    "# # 14st.Check if a list is empty and return a boolean.\n",
    "# Ro‘yxat bo‘shligini tekshirib, True yoki False qaytaring.\n",
    "\n",
    "a = []\n",
    "if a != []:\n",
    "    print(True)\n",
    "else:\n",
    "    print(False)\n"
   ]
  },
  {
   "cell_type": "code",
   "execution_count": null,
   "id": "899105ac",
   "metadata": {},
   "outputs": [
    {
     "name": "stdout",
     "output_type": "stream",
     "text": [
      "Even count: 6\n",
      "Odd count: 6\n"
     ]
    }
   ],
   "source": [
    "# # 15st. Count Even Numbers\n",
    "# Count how many elements in the list are even.\n",
    "# Ro‘yxatda nechta juft son borligini hisoblang.\n",
    "nums = [1,2,3,4,5,6,7,8,9,10,11,12]\n",
    "\n",
    "even = 0\n",
    "odd = 0\n",
    "\n",
    "for num in nums:\n",
    "    if num % 2 == 0:\n",
    "        even += 1 \n",
    "    else:\n",
    "        odd += 1\n",
    "print(\"Even count:\", even)\n",
    "print(\"Odd count:\", odd)"
   ]
  },
  {
   "cell_type": "code",
   "execution_count": null,
   "id": "cd7a6c29",
   "metadata": {},
   "outputs": [
    {
     "name": "stdout",
     "output_type": "stream",
     "text": [
      "Odd count: 6\n"
     ]
    }
   ],
   "source": [
    "# # 16st. Count how many elements in the list are odd.\n",
    "# Ro‘yxatda nechta toq son borligini hisoblang.\n",
    "nums = [1,2,3,4,5,6,7,8,9,10,11,12]\n",
    "odd = sum(1 for num in nums if num % 2 == 1)\n",
    "print(\"Odd count:\", odd)\n"
   ]
  },
  {
   "cell_type": "code",
   "execution_count": 85,
   "id": "5d7701d4",
   "metadata": {},
   "outputs": [
    {
     "name": "stdout",
     "output_type": "stream",
     "text": [
      "[1, 2, 3, 4, 5, 6]\n"
     ]
    }
   ],
   "source": [
    "# # 17st.Combine two lists into a new one.\n",
    "# Ikki ro‘yxatni birlashtirib, yangi ro‘yxat yarating.\n",
    "a = [1,2,3]\n",
    "b = [4,5,6]\n",
    "\n",
    "c = a+b\n",
    "print(c)"
   ]
  },
  {
   "cell_type": "code",
   "execution_count": null,
   "id": "0c0c0a46",
   "metadata": {},
   "outputs": [
    {
     "name": "stdout",
     "output_type": "stream",
     "text": [
      "True\n"
     ]
    }
   ],
   "source": [
    "# # 18st.Check if a sublist exists within the list.\n",
    "# Ro‘yxatda kichik ro‘yxat mavjudligini tekshiring.\n",
    "\n",
    "my_list = [1, 2, [3, 4], 5]\n",
    "target = [3, 4]\n",
    "\n",
    "print(target in my_list)\n"
   ]
  },
  {
   "cell_type": "code",
   "execution_count": 4,
   "id": "b8dcd908",
   "metadata": {},
   "outputs": [
    {
     "name": "stdout",
     "output_type": "stream",
     "text": [
      "[5, 2, 3, 4]\n"
     ]
    }
   ],
   "source": [
    "# # 19st.Replace the first occurrence of an element with another.\n",
    "# Ro‘yxatdagi elementni boshqasi bilan almashtiring.\n",
    "a = [1,2,3,4]\n",
    "a[0] = 5\n",
    "print(a)"
   ]
  },
  {
   "cell_type": "code",
   "execution_count": 8,
   "id": "158b820c",
   "metadata": {},
   "outputs": [
    {
     "name": "stdout",
     "output_type": "stream",
     "text": [
      "3\n"
     ]
    }
   ],
   "source": [
    "# # 20st. Find the second largest element.\n",
    "# Ro‘yxatdagi ikkinchi eng katta elementni aniqlang.\n",
    "a = [1,2,3,4]\n",
    "unique_sorted = sorted(set(a),reverse=True)\n",
    "second_largest = unique_sorted[1]\n",
    "print(second_largest)"
   ]
  },
  {
   "cell_type": "code",
   "execution_count": null,
   "id": "1d583865",
   "metadata": {},
   "outputs": [
    {
     "name": "stdout",
     "output_type": "stream",
     "text": [
      "2\n"
     ]
    }
   ],
   "source": [
    "# # 21st.Find the second smallest element.\n",
    "# Ro‘yxatdagi ikkinchi eng kichik elementni aniqlang.\n",
    "a = [1,2,3,4]\n",
    "sorte = sorted(set(a))\n",
    "second_small = sorte[1]\n",
    "print(second_small)"
   ]
  },
  {
   "cell_type": "code",
   "execution_count": 22,
   "id": "036b4ec1",
   "metadata": {},
   "outputs": [
    {
     "name": "stdout",
     "output_type": "stream",
     "text": [
      "[2, 4, 6, 8, 10]\n"
     ]
    }
   ],
   "source": [
    "# # 22st. Juft sonlarni filtrlash: \n",
    "# Butun sonlar ro‘yxatini hisobga olgan holda, faqat juft raqamlardan iborat yangi ro‘yxat yarating.\n",
    "a = [1,2,3,4,5,6,7,8,9,10]\n",
    "even_number = [x for x in a if x%2==0]\n",
    "print(even_number)"
   ]
  },
  {
   "cell_type": "code",
   "execution_count": 27,
   "id": "df0afa3f",
   "metadata": {},
   "outputs": [
    {
     "name": "stdout",
     "output_type": "stream",
     "text": [
      "[1, 3, 5, 7, 9]\n"
     ]
    }
   ],
   "source": [
    "# # 23st. Create a new list with only odd numbers.\n",
    "# Faqat toq sonlardan iborat yangi ro‘yxat yarating.\n",
    "odd_number =[]\n",
    "a = [1,2,3,4,5,6,7,8,9,10]\n",
    "for i in a:\n",
    "    if i%2==1:\n",
    "        odd_number.append(i)\n",
    "print(odd_number)\n",
    "        \n",
    " \n"
   ]
  },
  {
   "cell_type": "code",
   "execution_count": 28,
   "id": "28fcdf72",
   "metadata": {},
   "outputs": [
    {
     "name": "stdout",
     "output_type": "stream",
     "text": [
      "10\n"
     ]
    }
   ],
   "source": [
    "# # 24st.Determine the number of elements in the list.\n",
    "# Ro‘yxat uzunligini (nechta element borligini) aniqlang.\n",
    "a = [1,2,3,4,5,6,7,8,9,10]\n",
    "print(len(a))\n"
   ]
  },
  {
   "cell_type": "code",
   "execution_count": 31,
   "id": "7095ca23",
   "metadata": {},
   "outputs": [
    {
     "name": "stdout",
     "output_type": "stream",
     "text": [
      "[1, 2, 3, 4, 5, 6, 7, 8, 9, 10]\n"
     ]
    }
   ],
   "source": [
    "# # 25st. Create a new list that is a copy of the original.\n",
    "# Ro‘yxatning nusxasini yarating.\n",
    "a = [1,2,3,4,5,6,7,8,9,10]\n",
    "c = a.copy()\n",
    "print(c)"
   ]
  },
  {
   "cell_type": "code",
   "execution_count": null,
   "id": "9608a204",
   "metadata": {},
   "outputs": [
    {
     "name": "stdout",
     "output_type": "stream",
     "text": [
      "5.5\n"
     ]
    }
   ],
   "source": [
    "# # 26st.Find the middle element(s) of the list.\n",
    "# Berilgan ro‘yxatdan o‘rtadagi elementni toping. Agar ro‘yxatda \n",
    "# elementlar soni juft bo‘lsa, ikki o‘rta elementni qaytaring.\n",
    "import statistics\n",
    "a = [1,2,3,4,5,6,7,8,9,10]\n",
    "print(statistics.median(a))"
   ]
  },
  {
   "cell_type": "code",
   "execution_count": 40,
   "id": "76882aa1",
   "metadata": {},
   "outputs": [
    {
     "name": "stdout",
     "output_type": "stream",
     "text": [
      "3\n"
     ]
    }
   ],
   "source": [
    "# # 27st. Find the maximum element in a sublist.\n",
    "# Kichik ro‘yxatdan eng katta elementni toping.\n",
    "a = [[1,2,3],4,5,6,7,8,9,10]\n",
    "print(max(a[0]))"
   ]
  },
  {
   "cell_type": "code",
   "execution_count": 41,
   "id": "d7a7be44",
   "metadata": {},
   "outputs": [
    {
     "name": "stdout",
     "output_type": "stream",
     "text": [
      "1\n"
     ]
    }
   ],
   "source": [
    "# # 28st.Find the minimum element in a sublist.\n",
    "# Kichik ro‘yxatdan eng kichik elementni toping.\n",
    "a = [[1,2,3],4,5,6,7,8,9,10]\n",
    "print(min(a[0]))"
   ]
  },
  {
   "cell_type": "code",
   "execution_count": 44,
   "id": "d5bce981",
   "metadata": {},
   "outputs": [
    {
     "name": "stdout",
     "output_type": "stream",
     "text": [
      "[2, 3, 4, 5, 6, 7, 8, 9, 10]\n"
     ]
    }
   ],
   "source": [
    "# # 29st.Remove an element at a specific index.\n",
    "# Ko‘rsatilgan indeksdagi elementni olib tashlang.\n",
    "a = [1,2,3,4,5,6,7,8,9,10]\n",
    "del a[0:1]\n",
    "print(a)\n"
   ]
  },
  {
   "cell_type": "code",
   "execution_count": 49,
   "id": "19ee01ae",
   "metadata": {},
   "outputs": [
    {
     "name": "stdout",
     "output_type": "stream",
     "text": [
      "False\n"
     ]
    }
   ],
   "source": [
    "# # 30st.Check if the list is sorted in ascending order.\n",
    "# Ro‘yxat tartiblanganligini tekshirib, True yoki False qaytaring.\n",
    "a = [1,2,3,4,10,9,7,8,6,5]\n",
    "if a ==sorted(a):\n",
    "    print(True)\n",
    "else:\n",
    "    print(False)"
   ]
  },
  {
   "cell_type": "code",
   "execution_count": 67,
   "id": "b1734bde",
   "metadata": {},
   "outputs": [
    {
     "name": "stdout",
     "output_type": "stream",
     "text": [
      "[1, 1, 2, 2, 3, 3, 4, 4, 10, 10, 9, 9, 7, 7, 8, 8, 6, 6, 5, 5]\n"
     ]
    }
   ],
   "source": [
    "# # 31st.Repeat each element in the list a certain number of times.\n",
    "# Ro‘yxatdagi har bir elementni berilgan marta takrorlang.\n",
    "a = [1, 2, 3, 4, 10, 9, 7, 8, 6, 5]\n",
    "repeat_count = 2\n",
    "\n",
    "result = [item for item in a for _ in range(repeat_count)]\n",
    "\n",
    "print(result)\n"
   ]
  },
  {
   "cell_type": "code",
   "execution_count": 68,
   "id": "da4701fe",
   "metadata": {},
   "outputs": [
    {
     "name": "stdout",
     "output_type": "stream",
     "text": [
      "[1, 2, 3, 4, 5, 6, 7, 8, 9, 10]\n"
     ]
    }
   ],
   "source": [
    "# # 32st.Merge two lists and sort the result.\n",
    "# Ikki ro‘yxatni birlashtirib, saralang.\n",
    "a = [1, 2, 3, 4]\n",
    "b = [10, 9, 7, 8, 6, 5]\n",
    "c = sorted(a+b)\n",
    "print(c)"
   ]
  },
  {
   "cell_type": "code",
   "execution_count": 77,
   "id": "0fcdf412",
   "metadata": {},
   "outputs": [
    {
     "name": "stdout",
     "output_type": "stream",
     "text": [
      "[0, 2, 4]\n"
     ]
    }
   ],
   "source": [
    "# # 33st.Find all indices of a given element.\n",
    "# Element uchraydigan barcha indekslarni toping.\n",
    "a = [5, 3, 5, 7, 5]\n",
    "indices = [i for i, x in enumerate(a) if x == 5] \n",
    "print(indices)\n"
   ]
  },
  {
   "cell_type": "code",
   "execution_count": 78,
   "id": "1081d711",
   "metadata": {},
   "outputs": [
    {
     "name": "stdout",
     "output_type": "stream",
     "text": [
      "[70, 10, 20, 30, 40, 50, 60]\n"
     ]
    }
   ],
   "source": [
    "# # 34st. Rotate elements in the list (shift right).\n",
    "# Ro‘yxat elementlarini o‘ngga siljiting\n",
    "a = [10,20,30,40,50,60,70]\n",
    "rotated = a[-1:] + a[:-1]\n",
    "print(rotated)"
   ]
  },
  {
   "cell_type": "code",
   "execution_count": 80,
   "id": "af1db8dc",
   "metadata": {},
   "outputs": [
    {
     "name": "stdout",
     "output_type": "stream",
     "text": [
      "[1, 2, 3, 4, 5, 6, 7, 8, 9]\n"
     ]
    }
   ],
   "source": [
    "# # 35st.Create a list in a range (e.g. 1 to 10).\n",
    "# Berilgan oraliqda sonlardan iborat ro‘yxat yarating.\n",
    "a = list(range(1, 10))\n",
    "print(a)"
   ]
  },
  {
   "cell_type": "code",
   "execution_count": null,
   "id": "3ef38076",
   "metadata": {},
   "outputs": [],
   "source": [
    "# # 36st.Calculate the sum of all positive numbers.\n",
    "# Musbat sonlar yig‘indisini hisoblang.\n",
    "a = [-1,2,-3,4,5,-6]\n",
    "sum_even =sum([x for x in a if x>0 ])\n",
    "print(sum_even)"
   ]
  },
  {
   "cell_type": "code",
   "execution_count": 90,
   "id": "2fc1476f",
   "metadata": {},
   "outputs": [
    {
     "name": "stdout",
     "output_type": "stream",
     "text": [
      "-10\n"
     ]
    }
   ],
   "source": [
    "# # 37st.\n",
    "# Calculate the sum of all negative numbers.\n",
    "# Manfiy sonlar yig‘indisini hisoblang.\n",
    "a = [-1,2,-3,4,5,-6]\n",
    "sum_odd =sum([x for x in a if x<0 ])\n",
    "print(sum_odd)\n"
   ]
  },
  {
   "cell_type": "code",
   "execution_count": 91,
   "id": "659916ab",
   "metadata": {},
   "outputs": [
    {
     "name": "stdout",
     "output_type": "stream",
     "text": [
      "True\n"
     ]
    }
   ],
   "source": [
    "# # 38st. Check if a list is a palindrome.\n",
    "# Ro‘yxat palindrom (teskari ham o‘sha) ekanligini tekshiring.\n",
    "a = [1,2,3,4,5,4,3,2,1]\n",
    "b = a[0:]==a[::-1]\n",
    "print(b)"
   ]
  },
  {
   "cell_type": "code",
   "execution_count": 97,
   "id": "37935d76",
   "metadata": {},
   "outputs": [
    {
     "name": "stdout",
     "output_type": "stream",
     "text": [
      "[[1, 2, 3], [4, 5, 6], [7, 8, 9], [10]]\n"
     ]
    }
   ],
   "source": [
    "# # 39st.Group elements into sublists of fixed size.\n",
    "# Ro‘yxat elementlarini belgilangan o‘lchamdagi kichik ro‘yxatlarga ajrating.\n",
    "a = [1, 2, 3, 4, 5, 6, 7, 8, 9, 10]\n",
    "group_size = 3\n",
    "\n",
    "result = [a[i:i+group_size] for i in range(0, len(a), group_size)]\n",
    "\n",
    "print(result)\n",
    "\n"
   ]
  },
  {
   "cell_type": "code",
   "execution_count": 100,
   "id": "e40f9fd9",
   "metadata": {},
   "outputs": [
    {
     "name": "stdout",
     "output_type": "stream",
     "text": [
      "[1, 2, 3, 4, 5, 7, 10, 9]\n"
     ]
    }
   ],
   "source": [
    "# # 40st.Create a list of unique elements in original order.\n",
    "# Ro‘yxatdagi yagona elementlarni tartibni saqlagan holda ajrating.\n",
    "a = [1, 2, 3, 4, 5, 5, 7, 10, 9, 10]\n",
    "b = list(dict.fromkeys(a))\n",
    "print(b)"
   ]
  },
  {
   "cell_type": "markdown",
   "id": "b52918a3",
   "metadata": {},
   "source": [
    "# Tupple"
   ]
  },
  {
   "cell_type": "code",
   "execution_count": 3,
   "id": "8c6fce68",
   "metadata": {},
   "outputs": [
    {
     "name": "stdout",
     "output_type": "stream",
     "text": [
      "3\n"
     ]
    }
   ],
   "source": [
    "# 1st.Given a tuple and an element, find how many times the element appears in the tuple.\n",
    "# 🟩 Berilgan kortej va element bo‘yicha, element kortejda nechta marta uchrashini toping.\n",
    "\n",
    "a = (1,2,3,2,4,8,2,6)\n",
    "b= a.count(2)\n",
    "print(b)\n"
   ]
  },
  {
   "cell_type": "code",
   "execution_count": 5,
   "id": "9e2a37b7",
   "metadata": {},
   "outputs": [
    {
     "name": "stdout",
     "output_type": "stream",
     "text": [
      "8\n"
     ]
    }
   ],
   "source": [
    "# # 2st. From a given tuple, determine the largest element.\n",
    "# 🟩 Berilgan kortejdan eng katta elementni aniqlang.\n",
    "a = (1,2,3,2,4,8,2,6)\n",
    "print(max(a))"
   ]
  },
  {
   "cell_type": "code",
   "execution_count": 6,
   "id": "6facba67",
   "metadata": {},
   "outputs": [
    {
     "name": "stdout",
     "output_type": "stream",
     "text": [
      "1\n"
     ]
    }
   ],
   "source": [
    "# # 3st.From a given tuple, determine the smallest element.\n",
    "# 🟩 Berilgan kortejdan eng kichik elementni aniqlang.\n",
    "a = (1,2,3,2,4,8,2,6)\n",
    "print(min(a))"
   ]
  },
  {
   "cell_type": "code",
   "execution_count": 9,
   "id": "49473f1d",
   "metadata": {},
   "outputs": [
    {
     "name": "stdout",
     "output_type": "stream",
     "text": [
      "True\n"
     ]
    }
   ],
   "source": [
    "# # 4st.Given a tuple and an element, check if the element is present in the tuple.\n",
    "# 🟩 Kortejda berilgan element mavjudligini tekshiring.\n",
    "a = (1,2,3,2,4,8,2,6)\n",
    "print(2 in a)\n"
   ]
  },
  {
   "cell_type": "code",
   "execution_count": 14,
   "id": "e4dc352b",
   "metadata": {},
   "outputs": [
    {
     "name": "stdout",
     "output_type": "stream",
     "text": [
      "1\n"
     ]
    }
   ],
   "source": [
    "# # 5st.Access the first element of a tuple, considering what to return if the tuple is empty.\n",
    "# 🟩 Kortejdagi birinchi elementni oling, agar kortej bo‘sh bo‘lsa, nimani qaytarishni ko‘zda tuting.\n",
    "a = (1,2,3,2,4,8,2,6)\n",
    "\n",
    "if a:\n",
    "    first = a[0]\n",
    "else:\n",
    "    first = None  # yoki istalgan default qiymat\n",
    "\n",
    "print(a[0])\n"
   ]
  },
  {
   "cell_type": "code",
   "execution_count": 18,
   "id": "e4fdf9bf",
   "metadata": {},
   "outputs": [
    {
     "name": "stdout",
     "output_type": "stream",
     "text": [
      "6\n"
     ]
    }
   ],
   "source": [
    "# # 6st. Access the last element of a tuple, considering what to return if the tuple is empty.\n",
    "# 🟩 Kortejdagi oxirgi elementni oling, agar kortej bo‘sh bo‘lsa, mos qiymat qaytaring.\n",
    "\n",
    "a = (1,2,3,2,4,8,2,6)\n",
    "last = a[-1] if a else None\n",
    "print(last)"
   ]
  },
  {
   "cell_type": "code",
   "execution_count": 24,
   "id": "daaa15e8",
   "metadata": {},
   "outputs": [
    {
     "name": "stdout",
     "output_type": "stream",
     "text": [
      "8\n"
     ]
    }
   ],
   "source": [
    "# # 7st. Determine the number of elements in the tuple.\n",
    "# 🟩 Kortejdagi elementlar sonini aniqlang.\n",
    "a = (1,2,3,2,4,8,2,6)\n",
    "print(len(a))"
   ]
  },
  {
   "cell_type": "code",
   "execution_count": 26,
   "id": "2b9d9f08",
   "metadata": {},
   "outputs": [
    {
     "name": "stdout",
     "output_type": "stream",
     "text": [
      "(1, 2, 3)\n"
     ]
    }
   ],
   "source": [
    "# # 8st.Slice Tuple\n",
    "# Create a new tuple that contains only the first three elements of the original tuple.\n",
    "# 🟩 Kortejning faqat birinchi uchta elementidan iborat yangi kortej yarating.\n",
    "a = (1,2,3,2,4,8,2,6)\n",
    "b = a[0:3]\n",
    "print(b)"
   ]
  },
  {
   "cell_type": "code",
   "execution_count": 29,
   "id": "316f53e6",
   "metadata": {},
   "outputs": [
    {
     "name": "stdout",
     "output_type": "stream",
     "text": [
      "(1, 2, 3, 2, 4, 8, 2, 6)\n"
     ]
    }
   ],
   "source": [
    "# # 9st.Concatenate Tuples\n",
    "# Given two tuples, create a new tuple that combines both.\n",
    "# 🟩 Ikki kortejni birlashtirib, yangi kortej yarating.\n",
    "a = (1,2,3)\n",
    "b = (2,4,8,2,6)\n",
    "c = a+b\n",
    "print(c)\n"
   ]
  },
  {
   "cell_type": "code",
   "execution_count": 32,
   "id": "f3c07296",
   "metadata": {},
   "outputs": [
    {
     "name": "stdout",
     "output_type": "stream",
     "text": [
      "Kortej bo`sh emas\n"
     ]
    }
   ],
   "source": [
    "# # 10st. Check if Tuple is Empty\n",
    "# Determine if a tuple has any elements.\n",
    "# 🟩 Kortej bo‘shligini tekshiring.\n",
    "a = (1,2,3,2,4,8,2,6)\n",
    "if a:\n",
    "    print(\"Kortej bo`sh emas\")\n",
    "else:\n",
    "    print('Kortej bo`sh') \n"
   ]
  },
  {
   "cell_type": "code",
   "execution_count": 44,
   "id": "de0d57cd",
   "metadata": {},
   "outputs": [
    {
     "name": "stdout",
     "output_type": "stream",
     "text": [
      "Indexes of elements: [1, 3, 6]\n"
     ]
    }
   ],
   "source": [
    "# # 11st.Get All Indices of Element\n",
    "# Given a tuple and an element, find all the indices of that element in the tuple.\n",
    "# 🟩 Kortejda element uchragan barcha indekslarni toping.\n",
    "a = (1,2,3,2,4,8,2,6)\n",
    "target = 2\n",
    "\n",
    "indexes = [index for index, element in enumerate(a) if target==element ]\n",
    "print(f'Indexes of elements: {indexes}')\n",
    "    "
   ]
  },
  {
   "cell_type": "code",
   "execution_count": 49,
   "id": "7e6a1eba",
   "metadata": {},
   "outputs": [
    {
     "name": "stdout",
     "output_type": "stream",
     "text": [
      "6\n"
     ]
    }
   ],
   "source": [
    "# # 12st.Find Second Largest\n",
    "# From a given tuple, find the second largest element.\n",
    "# 🟩 Kortejdagi ikkinchi eng katta elementni aniqlang.\n",
    "a = (1,2,3,2,4,8,2,6)\n",
    "b = sorted(set(a), reverse=True)\n",
    "print(b[1])"
   ]
  },
  {
   "cell_type": "code",
   "execution_count": 50,
   "id": "5bfef336",
   "metadata": {},
   "outputs": [
    {
     "name": "stdout",
     "output_type": "stream",
     "text": [
      "2\n"
     ]
    }
   ],
   "source": [
    "# # 13st. Find Second Smallest\n",
    "# From a given tuple, find the second smallest element.\n",
    "# 🟩 Kortejdagi ikkinchi eng kichik elementni aniqlang.\n",
    "a = (1,2,3,2,4,8,2,6)\n",
    "b = sorted(set(a), reverse=False)\n",
    "print(b[1])"
   ]
  },
  {
   "cell_type": "code",
   "execution_count": 51,
   "id": "2cec2a5a",
   "metadata": {},
   "outputs": [
    {
     "name": "stdout",
     "output_type": "stream",
     "text": [
      "(8,)\n"
     ]
    }
   ],
   "source": [
    "# # 14st.Create a Single Element Tuple\n",
    "# Create a tuple that contains a single specified element.\n",
    "# 🟩 Faqat bitta berilgan elementdan iborat kortej yarating.\n",
    "a = (8,)\n",
    "print(a)\n"
   ]
  },
  {
   "cell_type": "code",
   "execution_count": 52,
   "id": "8011adad",
   "metadata": {},
   "outputs": [
    {
     "name": "stdout",
     "output_type": "stream",
     "text": [
      "(1, 2, 3, 2, 4, 8, 2, 6)\n"
     ]
    }
   ],
   "source": [
    "# # 15st. Convert List to Tuple\n",
    "# Given a list, create a tuple containing the same elements.\n",
    "# 🟩 Berilgan ro‘yxatni (list) kortejga aylantiring.c\n",
    "a = [1,2,3,2,4,8,2,6]\n",
    "print(tuple(a))"
   ]
  },
  {
   "cell_type": "code",
   "execution_count": 55,
   "id": "26ea9090",
   "metadata": {},
   "outputs": [
    {
     "name": "stdout",
     "output_type": "stream",
     "text": [
      "False\n"
     ]
    }
   ],
   "source": [
    "# # 16st.Check if Tuple is Sorted\n",
    "# Determine if the tuple is sorted in ascending order and return a boolean.\n",
    "# 🟩 Kortej o‘sish tartibida tartiblanganmi-yo‘qmi, shuni aniqlang (True yoki False).\n",
    "a = (1,2,3,2,4,8,2,6)\n",
    "\n",
    "print(a==tuple(sorted(a)))"
   ]
  },
  {
   "cell_type": "code",
   "execution_count": 65,
   "id": "19719e6a",
   "metadata": {},
   "outputs": [
    {
     "name": "stdout",
     "output_type": "stream",
     "text": [
      "3\n"
     ]
    }
   ],
   "source": [
    "# # 17st. Find Maximum of Subtuple\n",
    "# Given a tuple, find the maximum element of a specified subtuple.\n",
    "# 🟩 Kortejdan tanlangan qismining (subtuple) eng katta elementini aniqlang.\n",
    "a = ((1,2,3),2,4,8,2,6)\n",
    "print(max(a[0]))"
   ]
  },
  {
   "cell_type": "code",
   "execution_count": 66,
   "id": "fe7260f0",
   "metadata": {},
   "outputs": [
    {
     "name": "stdout",
     "output_type": "stream",
     "text": [
      "1\n"
     ]
    }
   ],
   "source": [
    "# # 18st. Find Minimum of Subtuple\n",
    "# Given a tuple, find the minimum element of a specified subtuple.\n",
    "# 🟩 Kortejdan tanlangan qismining eng kichik elementini aniqlang.\n",
    "a = ((1,2,3),2,4,8,2,6)\n",
    "print(min(a[0]))"
   ]
  },
  {
   "cell_type": "code",
   "execution_count": 75,
   "id": "b0023f2b",
   "metadata": {},
   "outputs": [
    {
     "name": "stdout",
     "output_type": "stream",
     "text": [
      "(1, 3, 2, 4, 8, 2, 6)\n"
     ]
    }
   ],
   "source": [
    "# # 19st. Remove Element by Value\n",
    "# Given a tuple and an element, create a new tuple that removes the first occurrence of that element.\n",
    "# 🟩 Kortejdagi berilgan elementning birinchi uchrashini olib tashlab, yangi kortej yarating.\n",
    "a = (1,2,3,2,4,8,2,6)\n",
    "target = 2\n",
    "\n",
    "temp = list(a)\n",
    "temp.remove(target)\n",
    "b = tuple(temp)\n",
    "\n",
    "print(b)\n",
    "\n"
   ]
  },
  {
   "cell_type": "code",
   "execution_count": null,
   "id": "234c2cfe",
   "metadata": {},
   "outputs": [
    {
     "name": "stdout",
     "output_type": "stream",
     "text": [
      "[(1, 2, 3), (4, 5, 6), (7,)]\n"
     ]
    }
   ],
   "source": [
    "# # 20st.Create Nested Tuple\n",
    "# Create a new tuple that contains subtuples, where each subtuple contains specified elements from the original tuple.\n",
    "# 🟩 Kortej elementlarini kichik kortejlarga bo‘lib, yangi ichma-ich (nested) kortej yarating.\n",
    "a = (1, 2, 3, 4, 5, 6, 7)\n",
    "size = 3\n",
    "subtuples = tuple(a[i:i+size] for i in range(0, len(a), size))\n",
    "print(subtuples)\n",
    "\n"
   ]
  },
  {
   "cell_type": "code",
   "execution_count": 80,
   "id": "11ec7e97",
   "metadata": {},
   "outputs": [
    {
     "name": "stdout",
     "output_type": "stream",
     "text": [
      "(1, 1, 1, 2, 2, 2, 3, 3, 3, 4, 4, 4, 5, 5, 5, 6, 6, 6, 7, 7, 7)\n"
     ]
    }
   ],
   "source": [
    "# # 21st.Repeat Elements\n",
    "# Given a tuple and a number, create a new tuple where each element is repeated that number of times.\n",
    "# 🟩 Har bir elementni ko‘rsatilgan marta takrorlab, yangi kortej yarating.\n",
    "numbers = (1, 2, 3, 4, 5, 6, 7)\n",
    "repeat = 3\n",
    "temp_list = []\n",
    "\n",
    "for x in numbers:\n",
    "    temp_list.extend([x] * repeat)\n",
    "\n",
    "new_tuple = tuple(temp_list)\n",
    "\n",
    "print(new_tuple)\n",
    "\n",
    "\n"
   ]
  },
  {
   "cell_type": "code",
   "execution_count": null,
   "id": "f9cfcf41",
   "metadata": {},
   "outputs": [
    {
     "name": "stdout",
     "output_type": "stream",
     "text": [
      "(1, 2, 3, 4, 5, 6, 7, 8, 9)\n"
     ]
    }
   ],
   "source": [
    "# # 22st.Create Range Tuple\n",
    "# Create a tuple of numbers in a specified range (e.g., from 1 to 10).\n",
    "# 🟩 Ko‘rsatilgan oraliqda sonlardan iborat kortej yarating.\n",
    "\n",
    "a = tuple(range(1, 10))\n",
    "print(a)\n",
    "\n"
   ]
  },
  {
   "cell_type": "code",
   "execution_count": 82,
   "id": "8afe91ed",
   "metadata": {},
   "outputs": [
    {
     "name": "stdout",
     "output_type": "stream",
     "text": [
      "(9, 8, 7, 6, 5, 4, 3, 2, 1)\n"
     ]
    }
   ],
   "source": [
    "# # 23st.Reverse Tuple\n",
    "# Create a new tuple that contains the elements in reverse order.\n",
    "# 🟩 Elementlari teskari tartibda joylashgan yangi kortej yarating.\n",
    "\n",
    "a = tuple(range(1, 10))\n",
    "print(a[::-1])"
   ]
  },
  {
   "cell_type": "code",
   "execution_count": 86,
   "id": "16402edd",
   "metadata": {},
   "outputs": [
    {
     "name": "stdout",
     "output_type": "stream",
     "text": [
      "True\n"
     ]
    }
   ],
   "source": [
    "# # 24st. Check Palindrome\n",
    "# Given a tuple, check if the tuple is a palindrome (reads the same forwards and backwards).\n",
    "# 🟩 Kortej palindrom (teskari o‘qishda ham bir xil) ekanligini tekshiring.\n",
    "a =(1, 2, 3, 4, 5, 4, 3, 2, 1)\n",
    "print(a==a[::-1])"
   ]
  },
  {
   "cell_type": "code",
   "execution_count": 89,
   "id": "6b1ba59d",
   "metadata": {},
   "outputs": [
    {
     "name": "stdout",
     "output_type": "stream",
     "text": [
      "(1, 2, 3, 4, 5)\n"
     ]
    }
   ],
   "source": [
    "# # 25st. Get Unique Elements\n",
    "# Given a tuple, create a new tuple that contains only the unique elements while maintaining the original order.\n",
    "# 🟩 Kortejdagi yagona elementlarni, asl tartibni saqlagan holda ajratib, yangi kortej yarating.\n",
    "a = (1, 2, 3, 4, 5, 4, 3, 2, 1)\n",
    "seen = set()\n",
    "unique = []\n",
    "\n",
    "for x in a:\n",
    "    if x not in seen:\n",
    "        seen.add(x)\n",
    "        unique.append(x)\n",
    "\n",
    "b = tuple(unique)\n",
    "print(b)\n"
   ]
  },
  {
   "cell_type": "markdown",
   "id": "733b5bda",
   "metadata": {},
   "source": [
    "# Set"
   ]
  },
  {
   "cell_type": "code",
   "execution_count": 99,
   "id": "37acadcb",
   "metadata": {},
   "outputs": [
    {
     "name": "stdout",
     "output_type": "stream",
     "text": [
      "{1, 2, 3, 5, 6}\n"
     ]
    }
   ],
   "source": [
    "# # 1st.Given two sets, create a new set that contains all unique elements from both sets.\n",
    "# 🟩 Ikki to‘plamdan yagona (takrorlanmagan) elementlardan iborat yangi to‘plam yarating.\n",
    "a = {1,2,3}\n",
    "b = {3,5,6}\n",
    "\n",
    "print(a | b)\n",
    "\n"
   ]
  },
  {
   "cell_type": "code",
   "execution_count": 101,
   "id": "35289247",
   "metadata": {},
   "outputs": [
    {
     "name": "stdout",
     "output_type": "stream",
     "text": [
      "{3}\n"
     ]
    }
   ],
   "source": [
    "# # 2st.Intersection of Sets\n",
    "# Given two sets, create a new set that contains elements common to both sets.\n",
    "# 🟩 Ikki to‘plamda ham mavjud bo‘lgan umumiy elementlardan iborat yangi to‘plam yarating.\n",
    "a = {1,2,3}\n",
    "b = {3,5,6}\n",
    "\n",
    "print(a&b)\n"
   ]
  },
  {
   "cell_type": "code",
   "execution_count": 102,
   "id": "f8afdecb",
   "metadata": {},
   "outputs": [
    {
     "name": "stdout",
     "output_type": "stream",
     "text": [
      "{1, 2}\n"
     ]
    }
   ],
   "source": [
    "# # 3st. Difference of Sets\n",
    "# Given two sets, create a new set with elements from the first set that are not in the second.\n",
    "# 🟩 Birinchi to‘plamda bo‘lib, ikkinchisida yo‘q bo‘lgan elementlardan iborat yangi to‘plam yarating.\n",
    "a = {1,2,3}\n",
    "b = {3,5,6}\n",
    "\n",
    "print(a-b)"
   ]
  },
  {
   "cell_type": "code",
   "execution_count": 103,
   "id": "675c7ed2",
   "metadata": {},
   "outputs": [
    {
     "name": "stdout",
     "output_type": "stream",
     "text": [
      "True\n"
     ]
    }
   ],
   "source": [
    "# # 4st.Check Subset\n",
    "# Given two sets, check if one set is a subset of the other.\n",
    "# 🟩 Bitta to‘plam ikkinchisining ichki to‘plami (subset) ekanligini tekshiring.\n",
    "a = {1,2,3}\n",
    "b = {1,2,3,4,5,6,7}\n",
    "\n",
    "subs = a.issubset(b)\n",
    "\n",
    "print(subs)\n",
    "\n"
   ]
  },
  {
   "cell_type": "code",
   "execution_count": 105,
   "id": "4ee3ff6c",
   "metadata": {},
   "outputs": [
    {
     "name": "stdout",
     "output_type": "stream",
     "text": [
      "True\n"
     ]
    }
   ],
   "source": [
    "# # 5st.Check Element\n",
    "# Given a set and an element, check if the element exists in the set.\n",
    "# 🟩 To‘plamda berilgan element mavjudligini tekshiring.\n",
    "\n",
    "b = {1,2,3,4,5,6,7}\n",
    "check = 2\n",
    "\n",
    "print(check in b)"
   ]
  },
  {
   "cell_type": "code",
   "execution_count": null,
   "id": "e29498a9",
   "metadata": {},
   "outputs": [
    {
     "name": "stdout",
     "output_type": "stream",
     "text": [
      "5\n"
     ]
    }
   ],
   "source": [
    "# # 6st.Set Length\n",
    "# Determine the number of unique elements in a set.\n",
    "# 🟩 To‘plamdagi yagona (takrorlanmagan) elementlar sonini aniqlang.\n",
    "b = {1,2,3,3,5,3,7}\n",
    "print(len(b))\n"
   ]
  },
  {
   "cell_type": "code",
   "execution_count": 110,
   "id": "2556d867",
   "metadata": {},
   "outputs": [
    {
     "name": "stdout",
     "output_type": "stream",
     "text": [
      "{1, 2, 3, 5, 7}\n"
     ]
    }
   ],
   "source": [
    "# # 7st.Convert List to Set\n",
    "# Given a list, create a new set that contains only the unique elements from that list.\n",
    "# 🟩 Ro‘yxatdagi elementlardan yagona elementlardan iborat to‘plam yarating.\n",
    "a = [1,2,3,3,5,3,7]\n",
    "\n",
    "print(set(a))"
   ]
  },
  {
   "cell_type": "code",
   "execution_count": 113,
   "id": "c555056a",
   "metadata": {},
   "outputs": [
    {
     "name": "stdout",
     "output_type": "stream",
     "text": [
      "{1, 2, 5, 7}\n"
     ]
    }
   ],
   "source": [
    "# # 8st.Remove Element\n",
    "# Given a set and an element, remove the element if it exists.\n",
    "# 🟩 Agar mavjud bo‘lsa, to‘plamdan ko‘rsatilgan elementni olib tashlang.\n",
    "a = {1,2,3,3,5,3,7}\n",
    "a.discard(3)\n",
    "print(a)"
   ]
  },
  {
   "cell_type": "code",
   "execution_count": 115,
   "id": "0f297f56",
   "metadata": {},
   "outputs": [
    {
     "name": "stdout",
     "output_type": "stream",
     "text": [
      "set()\n"
     ]
    }
   ],
   "source": [
    "# # 9st.Clear Set\n",
    "# Create a new empty set from an existing set.\n",
    "# 🟩 Mavjud to‘plamni tozalab, bo‘sh to‘plamga aylantiring.\n",
    "a = {1,2,3,3,5,3,7}\n",
    "a.clear()\n",
    "print(a)"
   ]
  },
  {
   "cell_type": "code",
   "execution_count": null,
   "id": "e7ddf802",
   "metadata": {},
   "outputs": [
    {
     "name": "stdout",
     "output_type": "stream",
     "text": [
      "To`plam bo`sh\n"
     ]
    }
   ],
   "source": [
    "# # 10st.Check if Set is Empty\n",
    "# Determine if a set has any elements.\n",
    "# 🟩 To‘plam bo‘shmi yoki unda elementlar bormi — tekshiring.\n",
    "\n",
    "a = {1,2,3,3,5,3,7}\n",
    "\n",
    "if a:\n",
    "    print(\"To`plam bo`sh emas\")\n",
    "else:\n",
    "    print(\"To`plam bo`sh\")"
   ]
  },
  {
   "cell_type": "code",
   "execution_count": 121,
   "id": "b8c478c9",
   "metadata": {},
   "outputs": [
    {
     "name": "stdout",
     "output_type": "stream",
     "text": [
      "{1, 2, 4, 5}\n"
     ]
    }
   ],
   "source": [
    "# # 11st.Symmetric Difference\n",
    "# Given two sets, create a new set that contains elements that are in either set but not in both.\n",
    "# 🟩 Faqat bittagina to‘plamda mavjud bo‘lgan elementlardan iborat yangi to‘plam yarating \n",
    "# (ikkalasida ham bo‘lmaganlar emas, balki umumiy bo‘lmaganlar).\n",
    "a = {1,2,3}\n",
    "b = {3,4,5}\n",
    "c = a^b\n",
    "print(c)"
   ]
  },
  {
   "cell_type": "code",
   "execution_count": 123,
   "id": "3c21a779",
   "metadata": {},
   "outputs": [
    {
     "name": "stdout",
     "output_type": "stream",
     "text": [
      "{1, 2, 3, 5, 7, 8}\n"
     ]
    }
   ],
   "source": [
    "# # # 12st.Add Element\n",
    "# Given a set and an element, add the element to the set if it is not already present.\n",
    "# 🟩 Agar mavjud bo‘lmasa, to‘plamga element qo‘shing.\n",
    "a = {1,2,3,3,5,3,7}\n",
    "a.add(8)\n",
    "print(a)"
   ]
  },
  {
   "cell_type": "code",
   "execution_count": 128,
   "id": "894b2341",
   "metadata": {},
   "outputs": [
    {
     "name": "stdout",
     "output_type": "stream",
     "text": [
      "1\n",
      "{2, 3, 5, 7}\n"
     ]
    }
   ],
   "source": [
    "# # 13st.Pop Element\n",
    "# Given a set, remove and return an arbitrary element from the set.\n",
    "# 🟩 To‘plamdan ixtiyoriy elementni olib tashlang va uni qaytaring.\n",
    "a = {1,2,3,3,5,3,7}\n",
    "b = a.pop()\n",
    "\n",
    "print(b)\n",
    "print(a)"
   ]
  },
  {
   "cell_type": "code",
   "execution_count": 129,
   "id": "0ac32364",
   "metadata": {},
   "outputs": [
    {
     "name": "stdout",
     "output_type": "stream",
     "text": [
      "7\n"
     ]
    }
   ],
   "source": [
    "# # 14st. Find Maximum\n",
    "# From a given set of numbers, find the maximum element.\n",
    "# 🟩 Berilgan sonlar to‘plamidan eng katta elementni toping.\n",
    "a = {1,2,3,3,5,3,7}\n",
    "print(max(a))\n"
   ]
  },
  {
   "cell_type": "code",
   "execution_count": 130,
   "id": "9fc5cb81",
   "metadata": {},
   "outputs": [
    {
     "name": "stdout",
     "output_type": "stream",
     "text": [
      "1\n"
     ]
    }
   ],
   "source": [
    "# # 15st.Find Minimum\n",
    "# From a given set of numbers, find the minimum element.\n",
    "# 🟩 Berilgan sonlar to‘plamidan eng kichik elementni toping.\n",
    "a = {1,2,3,3,5,3,7}\n",
    "print(min(a))"
   ]
  },
  {
   "cell_type": "code",
   "execution_count": 131,
   "id": "6e34ee61",
   "metadata": {},
   "outputs": [
    {
     "name": "stdout",
     "output_type": "stream",
     "text": [
      "{2, 4, 6}\n"
     ]
    }
   ],
   "source": [
    "# # 16st.Filter Even Numbers\n",
    "# Given a set of integers, create a new set that contains only the even numbers.\n",
    "# 🟩 Faqat juft sonlardan iborat yangi to‘plam yarating.\n",
    "a = {1,2,3,4,5,6,7}\n",
    "even = {i for i in a if i%2==0}\n",
    "print(even)"
   ]
  },
  {
   "cell_type": "code",
   "execution_count": 132,
   "id": "89d5acda",
   "metadata": {},
   "outputs": [
    {
     "name": "stdout",
     "output_type": "stream",
     "text": [
      "{1, 3, 5, 7}\n"
     ]
    }
   ],
   "source": [
    "# # 17st.Filter Odd Numbers\n",
    "# Given a set of integers, create a new set that contains only the odd numbers.\n",
    "# 🟩 Faqat toq sonlardan iborat yangi to‘plam yarating.\n",
    "a = {1,2,3,4,5,6,7}\n",
    "odd = {i for i in a if i%2==1}\n",
    "print(odd)"
   ]
  },
  {
   "cell_type": "code",
   "execution_count": 136,
   "id": "c3c08dc1",
   "metadata": {},
   "outputs": [
    {
     "name": "stdout",
     "output_type": "stream",
     "text": [
      "{1, 2, 3, 4, 5, 6, 7, 8, 9}\n"
     ]
    }
   ],
   "source": [
    "# # 18st.Create a Set of a Range\n",
    "# Create a set of numbers in a specified range (e.g., from 1 to 10).\n",
    "# 🟩 Masalan, 1 dan 10 gacha bo‘lgan sonlardan iborat to‘plam yarating.\n",
    "s = set(range(1, 10))\n",
    "print(s)"
   ]
  },
  {
   "cell_type": "code",
   "execution_count": 142,
   "id": "eb415b33",
   "metadata": {},
   "outputs": [
    {
     "name": "stdout",
     "output_type": "stream",
     "text": [
      "{1, 2, 3, 4, 5}\n"
     ]
    }
   ],
   "source": [
    "# # 19st.Merge and Deduplicate\n",
    "# Given two lists, create a new set that merges both lists and removes duplicates.\n",
    "# 🟩 Ikki ro‘yxatni birlashtirib, takroriy elementlarni olib tashlab, yagona to‘plam yarating.\n",
    "result = set([1, 2, 3] + [3, 4, 5])\n",
    "print(result)\n",
    "\n"
   ]
  },
  {
   "cell_type": "code",
   "execution_count": 146,
   "id": "e5cc91b7",
   "metadata": {},
   "outputs": [
    {
     "name": "stdout",
     "output_type": "stream",
     "text": [
      "False\n"
     ]
    }
   ],
   "source": [
    "# # 20st.Check Disjoint Sets\n",
    "# Given two sets, check if they have no elements in common.\n",
    "# 🟩 Ikki to‘plamda umumiy element yo‘qligini tekshiring.\n",
    "a = {1,2,3}\n",
    "b = {3,4,5}\n",
    "\n",
    "c = a.isdisjoint(b)\n",
    "print(c)\n"
   ]
  },
  {
   "cell_type": "code",
   "execution_count": null,
   "id": "89a3a03c",
   "metadata": {},
   "outputs": [
    {
     "name": "stdout",
     "output_type": "stream",
     "text": [
      "[1, 2, 3, 4, 6, 7]\n"
     ]
    }
   ],
   "source": [
    "# # 21st.Remove Duplicates from a List\n",
    "# Given a list, create a set from it to remove duplicates, then convert back to a list.\n",
    "# 🟩 Ro‘yxatdan takroriy elementlarni olib tashlash uchun avval uni to‘plamga \n",
    "# aylantiring, so‘ngra qayta ro‘yxatga o‘tkazing.\n",
    "a = [1, 2, 3, 4, 2, 6, 7]\n",
    "b = list(set(a))  \n",
    "print(b)"
   ]
  },
  {
   "cell_type": "code",
   "execution_count": 157,
   "id": "7b744c65",
   "metadata": {},
   "outputs": [
    {
     "name": "stdout",
     "output_type": "stream",
     "text": [
      "6\n"
     ]
    }
   ],
   "source": [
    "# # 22st.Count Unique Elements\n",
    "# Given a list, determine the count of unique elements using a set.\n",
    "# 🟩 Ro‘yxatdagi yagona elementlar sonini set orqali aniqlang.\n",
    "a = [1, 2, 3, 4, 2, 6, 7]\n",
    "print(len(set(a)))\n"
   ]
  },
  {
   "cell_type": "code",
   "execution_count": 160,
   "id": "27f45b71",
   "metadata": {},
   "outputs": [
    {
     "name": "stdout",
     "output_type": "stream",
     "text": [
      "{97, 72, 41, 79, 16, 22, 24, 88, 31, 63}\n"
     ]
    }
   ],
   "source": [
    "# # 23st.Generate Random Set\n",
    "# Create a set with a specified number of random integers within a certain range.\n",
    "# 🟩 Belgilangan oraliqda tasodifiy sonlardan iborat to‘plam yarating.\n",
    "import random\n",
    "\n",
    "tset = set(random.sample(range(1, 101), 10))\n",
    "print(tset)\n",
    "\n"
   ]
  },
  {
   "cell_type": "markdown",
   "id": "fce0260d",
   "metadata": {},
   "source": [
    "# # Dictionary "
   ]
  },
  {
   "cell_type": "code",
   "execution_count": 165,
   "id": "ae83155d",
   "metadata": {},
   "outputs": [
    {
     "name": "stdout",
     "output_type": "stream",
     "text": [
      "20\n"
     ]
    }
   ],
   "source": [
    "# # 1st. Given a dictionary and a key, retrieve the associated value, considering what to return if the key doesn’t exist.\n",
    "# 🔹 Tarjimasi: Lug‘at va kalit berilgan \n",
    "# bo‘lsa, unga mos qiymatni qaytaring. Agar kalit mavjud bo‘lmasa, nima qilish kerakligini inobatga oling.\n",
    "student = {\n",
    "    \"id\": 101,\n",
    "    \"first_name\": \"Ali\",\n",
    "    \"last_name\": \"Karimov\",\n",
    "    \"age\": 20,\n",
    "  \n",
    "}\n",
    "\n",
    "print(student.get('age'))\n"
   ]
  },
  {
   "cell_type": "code",
   "execution_count": 166,
   "id": "206adef6",
   "metadata": {},
   "outputs": [
    {
     "name": "stdout",
     "output_type": "stream",
     "text": [
      "True\n"
     ]
    }
   ],
   "source": [
    "# # 2st.Check Key\n",
    "# ➤ Given a dictionary and a key, check if the key is present in the dictionary.\n",
    "# 🔹 Tarjimasi: Lug‘at va kalit berilgan bo‘lsa, bu kalit lug‘atda mavjud yoki yo‘qligini tekshiring.\n",
    "student = {\n",
    "    \"id\": 101,\n",
    "    \"first_name\": \"Ali\",\n",
    "    \"last_name\": \"Karimov\",\n",
    "    \"age\": 20,\n",
    "  \n",
    "}\n",
    "\n",
    "print('age' in student)"
   ]
  },
  {
   "cell_type": "code",
   "execution_count": 178,
   "id": "8738e226",
   "metadata": {},
   "outputs": [
    {
     "name": "stdout",
     "output_type": "stream",
     "text": [
      "4\n"
     ]
    }
   ],
   "source": [
    "# # 3st.Count Keys\n",
    "# ➤ Determine the number of keys in the dictionary.\n",
    "# 🔹 Tarjimasi: Lug‘atda nechta kalit borligini aniqlang.\n",
    "\n",
    "student = {\n",
    "    \"id\": 101,\n",
    "    \"first_name\": \"Ali\",\n",
    "    \"last_name\": \"Karimov\",\n",
    "    \"age\": 20,\n",
    "  \n",
    "}\n",
    "\n",
    "print(len(student.keys()))"
   ]
  },
  {
   "cell_type": "code",
   "execution_count": 180,
   "id": "756b5f20",
   "metadata": {},
   "outputs": [
    {
     "name": "stdout",
     "output_type": "stream",
     "text": [
      "['id', 'first_name', 'last_name', 'age']\n"
     ]
    }
   ],
   "source": [
    "# # 4st.Get All Keys\n",
    "# ➤ Create a list that contains all the keys in the dictionary.\n",
    "# 🔹 Tarjimasi: Lug‘atdagi barcha kalitlardan iborat ro‘yxat yarating.\n",
    "student = {\n",
    "    \"id\": 101,\n",
    "    \"first_name\": \"Ali\",\n",
    "    \"last_name\": \"Karimov\",\n",
    "    \"age\": 20,\n",
    "  \n",
    "}\n",
    "\n",
    "print(list(student.keys()))"
   ]
  },
  {
   "cell_type": "code",
   "execution_count": 181,
   "id": "a88767c6",
   "metadata": {},
   "outputs": [
    {
     "name": "stdout",
     "output_type": "stream",
     "text": [
      "[101, 'Ali', 'Karimov', 20]\n"
     ]
    }
   ],
   "source": [
    "# # 5st.Get All Values\n",
    "# ➤ Create a list that contains all the values in the dictionary.\n",
    "# 🔹 Tarjimasi: Lug‘atdagi barcha qiymatlarni o‘z ichiga olgan ro‘yxat yarating.\n",
    "student = {\n",
    "    \"id\": 101,\n",
    "    \"first_name\": \"Ali\",\n",
    "    \"last_name\": \"Karimov\",\n",
    "    \"age\": 20,\n",
    "  \n",
    "}\n",
    "\n",
    "print(list(student.values()))"
   ]
  },
  {
   "cell_type": "code",
   "execution_count": 185,
   "id": "0fe6aac0",
   "metadata": {},
   "outputs": [
    {
     "name": "stdout",
     "output_type": "stream",
     "text": [
      "{'name': 'Ali', 'age': 21, 'major': 'Mathematics', 'gender': 'male', 'gpa': 3.7, 'year': 3}\n"
     ]
    }
   ],
   "source": [
    "# # 6st.Merge Dictionaries\n",
    "# ➤ Given two dictionaries, create a new dictionary that combines both.\n",
    "# 🔹 Tarjimasi: Ikki lug‘at berilgan bo‘lsa, ularni birlashtirib yangi lug‘at yarating.\n",
    "student1 = {\n",
    "    \"name\": \"Ali\",\n",
    "    \"age\": 21,\n",
    "    \"major\": \"Mathematics\"\n",
    "}\n",
    "\n",
    "student2 = {\n",
    "    \"gender\": \"male\",\n",
    "    \"gpa\": 3.7,\n",
    "    \"year\": 3\n",
    "}\n",
    "\n",
    "print(student1 | student2)"
   ]
  },
  {
   "cell_type": "code",
   "execution_count": 222,
   "id": "38a99cd4",
   "metadata": {},
   "outputs": [
    {
     "name": "stdout",
     "output_type": "stream",
     "text": [
      "101\n"
     ]
    }
   ],
   "source": [
    "# # 7st.Remove Key\n",
    "# ➤ Given a dictionary and a key, remove the key if it exists, handling the case if it doesn’t.\n",
    "# 🔹 Tarjimasi: Lug‘at va kalit berilgan bo‘lsa, agar kalit mavjud bo‘lsa, \n",
    "# uni o‘chirib tashlang. Mavjud bo‘lmasa, xatolikdan saqlaning.\n",
    "student = {\n",
    "    \"id\": 101,\n",
    "    \"first_name\": \"Ali\",\n",
    "    \"last_name\": \"Karimov\",\n",
    "    \"age\": 20,\n",
    "}\n",
    "\n",
    "print(student.pop(\"id\", 'kalit mavjud emas'))\n",
    "\n"
   ]
  },
  {
   "cell_type": "code",
   "execution_count": 227,
   "id": "1df8429b",
   "metadata": {},
   "outputs": [
    {
     "name": "stdout",
     "output_type": "stream",
     "text": [
      "{}\n"
     ]
    }
   ],
   "source": [
    "# 8st. Clear Dictionary: Create a new empty dictionary.\n",
    "student = {\n",
    "    \"id\": 101,\n",
    "    \"first_name\": \"Ali\",\n",
    "    \"last_name\": \"Karimov\",\n",
    "    \"age\": 20,\n",
    "}\n",
    "student.clear()\n",
    "print(student)  # {}\n"
   ]
  },
  {
   "cell_type": "code",
   "execution_count": null,
   "id": "bd51a40f",
   "metadata": {},
   "outputs": [
    {
     "name": "stdout",
     "output_type": "stream",
     "text": [
      "Bo`sh emas\n"
     ]
    }
   ],
   "source": [
    "# 9st.Check if Dictionary is Empty\n",
    "# ➤ Determine if a dictionary has any elements.\n",
    "# 🔹 Tarjimasi: Lug‘at bo‘sh yoki yo‘qligini aniqlang.\n",
    "student = {\n",
    "    \"id\": 101,\n",
    "    \"first_name\": \"Ali\",\n",
    "    \"last_name\": \"Karimov\",\n",
    "    \"age\": 20,\n",
    "}\n",
    "\n",
    "if student:\n",
    "    print('Bo`sh emas')\n",
    "else:\n",
    "    print('bo`sh')\n"
   ]
  },
  {
   "cell_type": "code",
   "execution_count": 230,
   "id": "0f510926",
   "metadata": {},
   "outputs": [
    {
     "name": "stdout",
     "output_type": "stream",
     "text": [
      "('id', 101)\n"
     ]
    }
   ],
   "source": [
    "# # 10st. Get Key-Value Pair\n",
    "# ➤ Given a dictionary and a key, retrieve the key-value pair if the key exists.\n",
    "# 🔹 Tarjimasi: Lug‘at va kalit berilgan bo‘lsa, agar kalit mavjud bo‘lsa, kalit-qiymat juftligini qaytaring.\n",
    "student = {\n",
    "    \"id\": 101,\n",
    "    \"first_name\": \"Ali\",\n",
    "    \"last_name\": \"Karimov\",\n",
    "    \"age\": 20,\n",
    "}\n",
    "\n",
    "key = \"id\"  \n",
    "\n",
    "if key in student:\n",
    "    print((key, student[key]))  \n",
    "else:\n",
    "    print(f\"'{key}' kaliti lug'atda mavjud emas.\")\n"
   ]
  },
  {
   "cell_type": "code",
   "execution_count": 231,
   "id": "1ae3dd50",
   "metadata": {},
   "outputs": [
    {
     "name": "stdout",
     "output_type": "stream",
     "text": [
      "{'id': 102, 'first_name': 'Ali', 'last_name': 'Karimov', 'age': 20}\n"
     ]
    }
   ],
   "source": [
    "# # 11st.Update Value\n",
    "# ➤ Given a dictionary, update the value for a specified key.\n",
    "# 🔹 Tarjimasi: Lug‘atda berilgan kalit uchun qiymatni yangilang.\n",
    "student = {\n",
    "    \"id\": 101,\n",
    "    \"first_name\": \"Ali\",\n",
    "    \"last_name\": \"Karimov\",\n",
    "    \"age\": 20,\n",
    "}\n",
    "student[\"id\"] = 102\n",
    "print(student)\n"
   ]
  },
  {
   "cell_type": "code",
   "execution_count": 243,
   "id": "59b55e5a",
   "metadata": {},
   "outputs": [
    {
     "name": "stdout",
     "output_type": "stream",
     "text": [
      "2\n"
     ]
    }
   ],
   "source": [
    "# # 12st. Count Value Occurrences\n",
    "# ➤ Given a dictionary, count how many times a specific value appears across the keys.\n",
    "# 🔹 Tarjimasi: Lug‘atda biror aniq qiymat nechta marta uchrashini hisoblang.\n",
    "student = {\n",
    "    \"id\": 20,\n",
    "    \"first_name\": \"Ali\",\n",
    "    \"last_name\": \"Karimov\",\n",
    "    \"age\": 20,\n",
    "}\n",
    "\n",
    "target_value = 20\n",
    "count = sum(1 for value in student.values() if value == target_value)\n",
    "print(count)"
   ]
  },
  {
   "cell_type": "code",
   "execution_count": 245,
   "id": "d48b81e7",
   "metadata": {},
   "outputs": [
    {
     "name": "stdout",
     "output_type": "stream",
     "text": [
      "{20: 'age', 'Ali': 'first_name', 'Karimov': 'last_name'}\n"
     ]
    }
   ],
   "source": [
    "# # 13st. Invert Dictionary\n",
    "# ➤ Given a dictionary, create a new dictionary that swaps keys and values.\n",
    "# 🔹 Tarjimasi: Berilgan lug‘atda kalit va qiymatlarni o‘rnini almashtirib yangi lug‘at yarating.\n",
    "student = {\n",
    "    \"id\": 20,\n",
    "    \"first_name\": \"Ali\",\n",
    "    \"last_name\": \"Karimov\",\n",
    "    \"age\": 20,\n",
    "}\n",
    "\n",
    "new = {value: key for key,value in student.items()}\n",
    "\n",
    "print(new)\n"
   ]
  },
  {
   "cell_type": "code",
   "execution_count": 249,
   "id": "5f6a5048",
   "metadata": {},
   "outputs": [
    {
     "name": "stdout",
     "output_type": "stream",
     "text": [
      "['id', 'age']\n"
     ]
    }
   ],
   "source": [
    "# # 14st.Find Keys with Value\n",
    "# ➤ Given a dictionary and a value, create a list of all keys that have that value.\n",
    "# 🔹 Tarjimasi: Lug‘at va qiymat berilgan bo‘lsa, shu qiymatga ega barcha kalitlardan iborat ro‘yxat yarating.\n",
    "student = {\n",
    "    \"id\": 20,\n",
    "    \"first_name\": \"Ali\",\n",
    "    \"last_name\": \"Karimov\",\n",
    "    \"age\": 20,\n",
    "}\n",
    "target_value = 20\n",
    "\n",
    "new = [key for key, value in student.items() if value==target_value]\n",
    "\n",
    "print(new)\n",
    "\n",
    "\n"
   ]
  },
  {
   "cell_type": "code",
   "execution_count": 254,
   "id": "c8febc4f",
   "metadata": {},
   "outputs": [
    {
     "name": "stdout",
     "output_type": "stream",
     "text": [
      "{'name': 'Shermukhammad', 'age': 37, 'city': 'Guliston6'}\n"
     ]
    }
   ],
   "source": [
    "# # 15st. Create a Dictionary from Lists\n",
    "# ➤ Given two lists (one of keys and one of values), create a dictionary that pairs them.\n",
    "# 🔹 Tarjimasi: Ikkita ro‘yxat (kalitlar va qiymatlar) berilgan bo‘lsa, ulardan lug‘at yarating.\n",
    "a = ['name','age','city']\n",
    "b = [\"Shermukhammad\",37,'Guliston6']\n",
    "\n",
    "dictr = (dict(zip(a,b)))\n",
    "print(dictr)\n",
    "\n"
   ]
  },
  {
   "cell_type": "code",
   "execution_count": 256,
   "id": "b659875f",
   "metadata": {},
   "outputs": [
    {
     "name": "stdout",
     "output_type": "stream",
     "text": [
      "True\n"
     ]
    }
   ],
   "source": [
    "# # 16st. Check for Nested Dictionaries\n",
    "# ➤ Given a dictionary, check if any values are also dictionaries.\n",
    "# 🔹 Tarjimasi: Lug‘atdagi qiymatlar ichida boshqa lug‘atlar bor yoki yo‘qligini tekshiring.\n",
    "students = {\n",
    "    \"student1\": {\"name\": \"Ali\", \"age\": 21, \"major\": \"Math\"},\n",
    "    \"student2\": {\"name\": \"Laylo\", \"age\": 22, \"major\": \"Biology\"}\n",
    "}\n",
    "\n",
    "print(any(isinstance(v, dict) for v in students.values()))"
   ]
  },
  {
   "cell_type": "code",
   "execution_count": 259,
   "id": "cd28a506",
   "metadata": {},
   "outputs": [
    {
     "name": "stdout",
     "output_type": "stream",
     "text": [
      "Ali\n"
     ]
    }
   ],
   "source": [
    "# # 17st.Get Nested Value\n",
    "# ➤ Given a nested dictionary, retrieve a value from within one of the inner dictionaries.\n",
    "# 🔹 Tarjimasi: Ichma-ich lug‘at berilgan bo‘lsa, ichki lug‘atlardan biridagi qiymatni oling.\n",
    "students = {\n",
    "    \"student1\": {\"name\": \"Ali\", \"age\": 21, \"major\": \"Math\"},\n",
    "    \"student2\": {\"name\": \"Laylo\", \"age\": 22, \"major\": \"Biology\"}\n",
    "}\n",
    "\n",
    "print(students[\"student1\"]['name'])\n"
   ]
  },
  {
   "cell_type": "code",
   "execution_count": 266,
   "id": "cf86bbaa",
   "metadata": {},
   "outputs": [
    {
     "name": "stdout",
     "output_type": "stream",
     "text": [
      "0\n"
     ]
    }
   ],
   "source": [
    "from collections import defaultdict\n",
    "# # 18st. Create Default Dictionary\n",
    "# ➤ Create a dictionary that provides a default value for missing keys.\n",
    "# 🔹 Tarjimasi: Mavjud bo‘lmagan kalitlar uchun standart qiymat qaytaradigan lug‘at yarating.\n",
    "d = defaultdict(int)\n",
    "\n",
    "print(d[\"kalit\"])  "
   ]
  },
  {
   "cell_type": "code",
   "execution_count": 268,
   "id": "3831ec5a",
   "metadata": {},
   "outputs": [
    {
     "name": "stdout",
     "output_type": "stream",
     "text": [
      "3\n"
     ]
    }
   ],
   "source": [
    "# # 19st. Count Unique Values\n",
    "# ➤ Given a dictionary, determine the number of unique values it contains.\n",
    "# 🔹 Tarjimasi: Lug‘atda nechta takrorlanmas (yagona) qiymat borligini aniqlang.\n",
    "student = {\n",
    "    \"id\": 20,\n",
    "    \"first_name\": \"Ali\",\n",
    "    \"last_name\": \"Karimov\",\n",
    "    \"age\": 20,\n",
    "}\n",
    "uniq_val = set(student.values())\n",
    "print(len(uniq_val))"
   ]
  },
  {
   "cell_type": "code",
   "execution_count": 272,
   "id": "07fb0992",
   "metadata": {},
   "outputs": [
    {
     "name": "stdout",
     "output_type": "stream",
     "text": [
      "{'age': 20, 'first_name': 'Ali', 'id': 10, 'last_name': 'Karimov'}\n"
     ]
    }
   ],
   "source": [
    "# # 20st.Sort Dictionary by Key\n",
    "# ➤ Create a new dictionary sorted by keys.\n",
    "# 🔹 Tarjimasi: Kalitlar bo‘yicha tartiblangan yangi lug‘at yarating.\n",
    "student = {\n",
    "    \"id\": 10,\n",
    "    \"first_name\": \"Ali\",\n",
    "    \"last_name\": \"Karimov\",\n",
    "    \"age\": 20,\n",
    "}\n",
    "\n",
    "sorted_dict = {key: student[key] for key in sorted(student.keys())}\n",
    "print(sorted_dict)"
   ]
  },
  {
   "cell_type": "code",
   "execution_count": 276,
   "id": "98c9f049",
   "metadata": {},
   "outputs": [
    {
     "name": "stdout",
     "output_type": "stream",
     "text": [
      "{'id': 10, 'age': 20, 'first_name': 'Ali', 'last_name': 'Karimov'}\n"
     ]
    }
   ],
   "source": [
    "# 21st. Sort Dictionary by Value\n",
    "# ➤ Create a new dictionary sorted by values.\n",
    "# 🔹 Tarjimasi: Qiymatlar bo‘yicha tartiblangan yangi lug‘at yarating.\n",
    "\n",
    "student = {\n",
    "    \"id\": 10,\n",
    "    \"first_name\": \"Ali\",\n",
    "    \"last_name\": \"Karimov\",\n",
    "    \"age\": 20,\n",
    "}\n",
    "\n",
    "\n",
    "sorted_dict = dict(sorted(student.items(), key=lambda item: str(item[1])))\n",
    "print(sorted_dict)\n"
   ]
  },
  {
   "cell_type": "code",
   "execution_count": 277,
   "id": "00fcecd4",
   "metadata": {},
   "outputs": [
    {
     "name": "stdout",
     "output_type": "stream",
     "text": [
      "{'score': 25}\n"
     ]
    }
   ],
   "source": [
    "# # 22st.Filter by Value\n",
    "# ➤ Given a dictionary, create a new dictionary that only includes items with values that meet a certain condition.\n",
    "# 🔹 Tarjimasi: Berilgan lug‘atdan faqat ma’lum bir shartga mos keladigan \n",
    "# qiymatlarga ega elementlarni ajratib yangi lug‘at yarating\n",
    "\n",
    "student = {\n",
    "    \"id\": 10,\n",
    "    \"first_name\": \"Ali\",\n",
    "    \"last_name\": \"Karimov\",\n",
    "    \"age\": 20,\n",
    "    \"score\": 25,\n",
    "}\n",
    "\n",
    "filtered_dict = {k: v for k, v in student.items() if isinstance(v, int) and v > 20}\n",
    "\n",
    "print(filtered_dict)\n"
   ]
  },
  {
   "cell_type": "code",
   "execution_count": 278,
   "id": "373c55a1",
   "metadata": {},
   "outputs": [
    {
     "name": "stdout",
     "output_type": "stream",
     "text": [
      "True\n"
     ]
    }
   ],
   "source": [
    "# # 23st.Check for Common Keys\n",
    "# ➤ Given two dictionaries, check if they have any keys in common.\n",
    "# 🔹 Tarjimasi: Ikki lug‘atda umumiy kalitlar bor yoki yo‘qligini tekshiring.\n",
    "dict1 = {\"id\": 1, \"name\": \"Ali\", \"age\": 20}\n",
    "dict2 = {\"name\": \"Laylo\", \"grade\": \"A\", \"age\": 22}\n",
    "\n",
    "# Ikkala lug'at kalitlarini to'plamga aylantiramiz\n",
    "keys1 = set(dict1.keys())\n",
    "keys2 = set(dict2.keys())\n",
    "\n",
    "# Kesishmani tekshiramiz\n",
    "common_keys = keys1.intersection(keys2)\n",
    "\n",
    "print(bool(common_keys))  # True agar umumiy kalitlar bor bo'lsa\n",
    "\n"
   ]
  },
  {
   "cell_type": "code",
   "execution_count": 279,
   "id": "6041945e",
   "metadata": {},
   "outputs": [
    {
     "name": "stdout",
     "output_type": "stream",
     "text": [
      "{'id': 1, 'name': 'Ali', 'age': 20}\n"
     ]
    }
   ],
   "source": [
    "# # 24st.Create Dictionary from Tuple\n",
    "# ➤ Given a tuple of key-value pairs, create a dictionary from it.\n",
    "# 🔹 Tarjimasi: Kalit-qiymat juftliklaridan tashkil topgan tuple berilgan bo‘lsa, undan lug‘at yarating.\n",
    "\n",
    "pairs = ((\"id\", 1), (\"name\", \"Ali\"), (\"age\", 20))\n",
    "student_dict = dict(pairs)\n",
    "\n",
    "print(student_dict)\n",
    "\n"
   ]
  },
  {
   "cell_type": "code",
   "execution_count": 287,
   "id": "87076fab",
   "metadata": {},
   "outputs": [
    {
     "name": "stdout",
     "output_type": "stream",
     "text": [
      "('id', 10)\n"
     ]
    }
   ],
   "source": [
    "# # 25st.Get the First Key-Value Pair\n",
    "# ➤ Retrieve the first key-value pair from a dictionary.\n",
    "# 🔹 Tarjimasi: Lug‘atdan birinchi kalit-qiymat juftligini oling.\n",
    "student = {\n",
    "    \"id\": 10,\n",
    "    \"first_name\": \"Ali\",\n",
    "    \"last_name\": \"Karimov\",\n",
    "    \"age\": 20,\n",
    "    \"score\": 25,\n",
    "}\n",
    "\n",
    "first_item = next(iter(student.items()))\n",
    "print(first_item)"
   ]
  },
  {
   "cell_type": "code",
   "execution_count": null,
   "id": "ec51d13a",
   "metadata": {},
   "outputs": [],
   "source": []
  }
 ],
 "metadata": {
  "kernelspec": {
   "display_name": "Python 3",
   "language": "python",
   "name": "python3"
  },
  "language_info": {
   "codemirror_mode": {
    "name": "ipython",
    "version": 3
   },
   "file_extension": ".py",
   "mimetype": "text/x-python",
   "name": "python",
   "nbconvert_exporter": "python",
   "pygments_lexer": "ipython3",
   "version": "3.12.8"
  }
 },
 "nbformat": 4,
 "nbformat_minor": 5
}
