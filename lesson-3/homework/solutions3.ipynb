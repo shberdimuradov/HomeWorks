{
 "cells": [
  {
   "cell_type": "markdown",
   "id": "e3286569",
   "metadata": {},
   "source": [
    "# List"
   ]
  },
  {
   "cell_type": "code",
   "execution_count": null,
   "id": "f9ef0e13",
   "metadata": {},
   "outputs": [],
   "source": [
    "# 1st.Given a list and an element, find how many times the element appears in the list.\n",
    "# Berilgan ro‘yxat va element bo‘yicha, element ro‘yxatda nechta marta uchrashini toping.\n"
   ]
  },
  {
   "cell_type": "code",
   "execution_count": null,
   "id": "ec1425c6",
   "metadata": {},
   "outputs": [],
   "source": [
    "# # 2st.Sum of Elements\n",
    "# Given a list of numbers, calculate the total of all the elements.\n",
    "# Berilgan sonlar ro‘yxatidagi barcha elementlar yig‘indisini hisoblang."
   ]
  },
  {
   "cell_type": "code",
   "execution_count": null,
   "id": "ccf6e605",
   "metadata": {},
   "outputs": [],
   "source": [
    "# # 3st.From a given list, determine the largest element.\n",
    "# Ro‘yxatdan eng katta elementni aniqlang."
   ]
  },
  {
   "cell_type": "code",
   "execution_count": null,
   "id": "1f191f7e",
   "metadata": {},
   "outputs": [],
   "source": []
  },
  {
   "cell_type": "code",
   "execution_count": null,
   "id": "2b29adc9",
   "metadata": {},
   "outputs": [],
   "source": [
    "# # 4st.From a given list, determine the smallest element.\n",
    "# Ro‘yxatdan eng kichik elementni aniqlang."
   ]
  },
  {
   "cell_type": "code",
   "execution_count": null,
   "id": "24423abc",
   "metadata": {},
   "outputs": [],
   "source": [
    "# # 5st.Given a list and an element, check if the element is present in the list.\n",
    "# Ro‘yxatda ma’lum bir element mavjudligini tekshiring."
   ]
  },
  {
   "cell_type": "code",
   "execution_count": null,
   "id": "635ace69",
   "metadata": {},
   "outputs": [],
   "source": [
    "# # 6st. Access the first element of a list, considering what to return if the list is empty.\n",
    "# Ro‘yxatdagi birinchi elementni oling, agar ro‘yxat bo‘sh bo‘lsa, nimani qaytarishni hisobga oling."
   ]
  },
  {
   "cell_type": "code",
   "execution_count": null,
   "id": "86a8645e",
   "metadata": {},
   "outputs": [],
   "source": [
    "# # 7st.Access the last element of a list, considering what to return if the list is empty.\n",
    "# Ro‘yxatdagi oxirgi elementni oling, agar ro‘yxat bo‘sh bo‘lsa, nimani qaytarishni hisobga oling."
   ]
  },
  {
   "cell_type": "code",
   "execution_count": null,
   "id": "a9c715ac",
   "metadata": {},
   "outputs": [],
   "source": [
    "# # 8st.Create a new list that contains only the first three elements of the original list.\n",
    "# Ro‘yxatning faqat birinchi uchta elementini o‘z ichiga olgan yangi ro‘yxat yarating."
   ]
  },
  {
   "cell_type": "code",
   "execution_count": null,
   "id": "8c149c21",
   "metadata": {},
   "outputs": [],
   "source": [
    "# # 9st. Create a new list that contains the elements in reverse order.\n",
    "# Ro‘yxat elementlarini teskari tartibda o‘z ichiga olgan yangi ro‘yxat yarating."
   ]
  },
  {
   "cell_type": "code",
   "execution_count": null,
   "id": "605184b5",
   "metadata": {},
   "outputs": [],
   "source": [
    "# # 10st. Create a new list that contains the elements in sorted order.\n",
    "# Elementlari saralangan (ko‘payish tartibida) yangi ro‘yxat yarating."
   ]
  },
  {
   "cell_type": "code",
   "execution_count": null,
   "id": "42c742a7",
   "metadata": {},
   "outputs": [],
   "source": [
    "# # 11st.Create a new list that contains only unique elements.\n",
    "# Faqat yagona elementlardan iborat yangi ro‘yxat yarating."
   ]
  },
  {
   "cell_type": "code",
   "execution_count": null,
   "id": "24e63eb4",
   "metadata": {},
   "outputs": [],
   "source": [
    "# # 12st.Insert an element at a specified index in the list.\n",
    "# Berilgan indeksga elementni joylashtiring."
   ]
  },
  {
   "cell_type": "code",
   "execution_count": null,
   "id": "def23330",
   "metadata": {},
   "outputs": [],
   "source": [
    "# # 13st. Find the index of the first occurrence of the element.\n",
    "# Elementning ro‘yxatda birinchi uchragan indeksini toping."
   ]
  },
  {
   "cell_type": "code",
   "execution_count": null,
   "id": "a181980e",
   "metadata": {},
   "outputs": [],
   "source": [
    "# # 14st.Check if a list is empty and return a boolean.\n",
    "# Ro‘yxat bo‘shligini tekshirib, True yoki False qaytaring."
   ]
  },
  {
   "cell_type": "code",
   "execution_count": null,
   "id": "899105ac",
   "metadata": {},
   "outputs": [],
   "source": [
    "# # 15st. Count Even Numbers\n",
    "# Count how many elements in the list are even.\n",
    "# Ro‘yxatda nechta juft son borligini hisoblang."
   ]
  },
  {
   "cell_type": "code",
   "execution_count": null,
   "id": "cd7a6c29",
   "metadata": {},
   "outputs": [],
   "source": [
    "# # 16st. Count how many elements in the list are odd.\n",
    "# Ro‘yxatda nechta toq son borligini hisoblang."
   ]
  },
  {
   "cell_type": "code",
   "execution_count": null,
   "id": "5d7701d4",
   "metadata": {},
   "outputs": [],
   "source": [
    "# # 17st.Combine two lists into a new one.\n",
    "# Ikki ro‘yxatni birlashtirib, yangi ro‘yxat yarating."
   ]
  },
  {
   "cell_type": "code",
   "execution_count": null,
   "id": "0c0c0a46",
   "metadata": {},
   "outputs": [],
   "source": [
    "# # 18st.Check if a sublist exists within the list.\n",
    "# Ro‘yxatda kichik ro‘yxat mavjudligini tekshiring."
   ]
  },
  {
   "cell_type": "code",
   "execution_count": null,
   "id": "b8dcd908",
   "metadata": {},
   "outputs": [],
   "source": [
    "# # 19st.Replace the first occurrence of an element with another.\n",
    "# Ro‘yxatdagi elementni boshqasi bilan almashtiring."
   ]
  },
  {
   "cell_type": "code",
   "execution_count": null,
   "id": "158b820c",
   "metadata": {},
   "outputs": [],
   "source": [
    "# # 20st. Find the second largest element.\n",
    "# Ro‘yxatdagi ikkinchi eng katta elementni aniqlang."
   ]
  },
  {
   "cell_type": "code",
   "execution_count": null,
   "id": "1d583865",
   "metadata": {},
   "outputs": [],
   "source": [
    "# # 21st.Find the second smallest element.\n",
    "# Ro‘yxatdagi ikkinchi eng kichik elementni aniqlang."
   ]
  },
  {
   "cell_type": "code",
   "execution_count": null,
   "id": "036b4ec1",
   "metadata": {},
   "outputs": [],
   "source": [
    "# # 22st. Find the second smallest element.\n",
    "# Ro‘yxatdagi ikkinchi eng kichik elementni aniqlang."
   ]
  },
  {
   "cell_type": "code",
   "execution_count": null,
   "id": "df0afa3f",
   "metadata": {},
   "outputs": [],
   "source": [
    "# # 23st. Create a new list with only odd numbers.\n",
    "# Faqat toq sonlardan iborat yangi ro‘yxat yarating."
   ]
  },
  {
   "cell_type": "code",
   "execution_count": null,
   "id": "28fcdf72",
   "metadata": {},
   "outputs": [],
   "source": [
    "# # 24st.Determine the number of elements in the list.\n",
    "# Ro‘yxat uzunligini (nechta element borligini) aniqlang."
   ]
  },
  {
   "cell_type": "code",
   "execution_count": null,
   "id": "7095ca23",
   "metadata": {},
   "outputs": [],
   "source": [
    "# # 25st. Create a new list that is a copy of the original.\n",
    "# Ro‘yxatning nusxasini yarating."
   ]
  },
  {
   "cell_type": "code",
   "execution_count": null,
   "id": "9608a204",
   "metadata": {},
   "outputs": [],
   "source": [
    "# # 26st.Find the middle element(s) of the list.\n",
    "# Ro‘yxatdagi o‘rta (yoki ikki o‘rtadagi) element(lar)ni toping."
   ]
  },
  {
   "cell_type": "code",
   "execution_count": null,
   "id": "76882aa1",
   "metadata": {},
   "outputs": [],
   "source": [
    "# # 27st. Find the maximum element in a sublist.\n",
    "# Kichik ro‘yxatdan eng katta elementni toping."
   ]
  },
  {
   "cell_type": "code",
   "execution_count": null,
   "id": "d7a7be44",
   "metadata": {},
   "outputs": [],
   "source": [
    "# # 28st.Find the minimum element in a sublist.\n",
    "# Kichik ro‘yxatdan eng kichik elementni toping."
   ]
  },
  {
   "cell_type": "code",
   "execution_count": null,
   "id": "d5bce981",
   "metadata": {},
   "outputs": [],
   "source": [
    "# # 29st.Remove an element at a specific index.\n",
    "# Ko‘rsatilgan indeksdagi elementni olib tashlang."
   ]
  },
  {
   "cell_type": "code",
   "execution_count": null,
   "id": "19ee01ae",
   "metadata": {},
   "outputs": [],
   "source": [
    "# # 30st.Check if the list is sorted in ascending order.\n",
    "# Ro‘yxat tartiblanganligini tekshirib, True yoki False qaytaring."
   ]
  },
  {
   "cell_type": "code",
   "execution_count": null,
   "id": "b1734bde",
   "metadata": {},
   "outputs": [],
   "source": [
    "# # 31st.Repeat each element in the list a certain number of times.\n",
    "# Ro‘yxatdagi har bir elementni berilgan marta takrorlang."
   ]
  },
  {
   "cell_type": "code",
   "execution_count": null,
   "id": "da4701fe",
   "metadata": {},
   "outputs": [],
   "source": [
    "# # 32st.Merge two lists and sort the result.\n",
    "# Ikki ro‘yxatni birlashtirib, saralang."
   ]
  },
  {
   "cell_type": "code",
   "execution_count": null,
   "id": "0fcdf412",
   "metadata": {},
   "outputs": [],
   "source": [
    "# # 33st.Find all indices of a given element.\n",
    "# Element uchraydigan barcha indekslarni toping."
   ]
  },
  {
   "cell_type": "code",
   "execution_count": null,
   "id": "1081d711",
   "metadata": {},
   "outputs": [],
   "source": [
    "# # 34st. Rotate elements in the list (shift right).\n",
    "# Ro‘yxat elementlarini o‘ngga siljiting."
   ]
  },
  {
   "cell_type": "code",
   "execution_count": null,
   "id": "af1db8dc",
   "metadata": {},
   "outputs": [],
   "source": [
    "# # 35st.Create a list in a range (e.g. 1 to 10).\n",
    "# Berilgan oraliqda sonlardan iborat ro‘yxat yarating."
   ]
  },
  {
   "cell_type": "code",
   "execution_count": null,
   "id": "3ef38076",
   "metadata": {},
   "outputs": [],
   "source": [
    "# # 36st.Calculate the sum of all positive numbers.\n",
    "# Musbat sonlar yig‘indisini hisoblang."
   ]
  },
  {
   "cell_type": "code",
   "execution_count": null,
   "id": "2fc1476f",
   "metadata": {},
   "outputs": [],
   "source": [
    "# # 37st.\n",
    "# Calculate the sum of all negative numbers.\n",
    "# Manfiy sonlar yig‘indisini hisoblang."
   ]
  },
  {
   "cell_type": "code",
   "execution_count": null,
   "id": "659916ab",
   "metadata": {},
   "outputs": [],
   "source": [
    "# # 38st. Check if a list is a palindrome.\n",
    "# Ro‘yxat palindrom (teskari ham o‘sha) ekanligini tekshiring."
   ]
  },
  {
   "cell_type": "code",
   "execution_count": null,
   "id": "37935d76",
   "metadata": {},
   "outputs": [],
   "source": [
    "# # 39st.Group elements into sublists of fixed size.\n",
    "# Ro‘yxat elementlarini belgilangan o‘lchamdagi kichik ro‘yxatlarga ajrating."
   ]
  },
  {
   "cell_type": "code",
   "execution_count": null,
   "id": "e40f9fd9",
   "metadata": {},
   "outputs": [],
   "source": [
    "# # 40st.Create a list of unique elements in original order.\n",
    "# Ro‘yxatdagi yagona elementlarni tartibni saqlagan holda ajrating."
   ]
  },
  {
   "cell_type": "markdown",
   "id": "b52918a3",
   "metadata": {},
   "source": [
    "# Tupple"
   ]
  },
  {
   "cell_type": "code",
   "execution_count": null,
   "id": "8c6fce68",
   "metadata": {},
   "outputs": [],
   "source": [
    "# 1st.Given a tuple and an element, find how many times the element appears in the tuple.\n",
    "# 🟩 Berilgan kortej va element bo‘yicha, element kortejda nechta marta uchrashini toping."
   ]
  },
  {
   "cell_type": "code",
   "execution_count": null,
   "id": "9e2a37b7",
   "metadata": {},
   "outputs": [],
   "source": [
    "# # 2st. From a given tuple, determine the largest element.\n",
    "# 🟩 Berilgan kortejdan eng katta elementni aniqlang."
   ]
  },
  {
   "cell_type": "code",
   "execution_count": null,
   "id": "6facba67",
   "metadata": {},
   "outputs": [],
   "source": [
    "# # 3st.From a given tuple, determine the smallest element.\n",
    "# 🟩 Berilgan kortejdan eng kichik elementni aniqlang."
   ]
  },
  {
   "cell_type": "code",
   "execution_count": null,
   "id": "49473f1d",
   "metadata": {},
   "outputs": [],
   "source": [
    "# # 4st.Given a tuple and an element, check if the element is present in the tuple.\n",
    "# 🟩 Kortejda berilgan element mavjudligini tekshiring."
   ]
  },
  {
   "cell_type": "code",
   "execution_count": null,
   "id": "e4dc352b",
   "metadata": {},
   "outputs": [],
   "source": [
    "# # 5st.Access the first element of a tuple, considering what to return if the tuple is empty.\n",
    "# 🟩 Kortejdagi birinchi elementni oling, agar kortej bo‘sh bo‘lsa, nimani qaytarishni ko‘zda tuting."
   ]
  },
  {
   "cell_type": "code",
   "execution_count": null,
   "id": "e4fdf9bf",
   "metadata": {},
   "outputs": [],
   "source": [
    "# # 6st. Access the last element of a tuple, considering what to return if the tuple is empty.\n",
    "# 🟩 Kortejdagi oxirgi elementni oling, agar kortej bo‘sh bo‘lsa, mos qiymat qaytaring."
   ]
  },
  {
   "cell_type": "code",
   "execution_count": null,
   "id": "daaa15e8",
   "metadata": {},
   "outputs": [],
   "source": [
    "# # 7st. Determine the number of elements in the tuple.\n",
    "# 🟩 Kortejdagi elementlar sonini aniqlang."
   ]
  },
  {
   "cell_type": "code",
   "execution_count": null,
   "id": "2b9d9f08",
   "metadata": {},
   "outputs": [],
   "source": [
    "# # 8st.Slice Tuple\n",
    "# Create a new tuple that contains only the first three elements of the original tuple.\n",
    "# 🟩 Kortejning faqat birinchi uchta elementidan iborat yangi kortej yarating."
   ]
  },
  {
   "cell_type": "code",
   "execution_count": null,
   "id": "316f53e6",
   "metadata": {},
   "outputs": [],
   "source": [
    "# # 9st.Concatenate Tuples\n",
    "# Given two tuples, create a new tuple that combines both.\n",
    "# 🟩 Ikki kortejni birlashtirib, yangi kortej yarating."
   ]
  },
  {
   "cell_type": "code",
   "execution_count": null,
   "id": "f3c07296",
   "metadata": {},
   "outputs": [],
   "source": [
    "# # 10st. Check if Tuple is Empty\n",
    "# Determine if a tuple has any elements.\n",
    "# 🟩 Kortej bo‘shligini tekshiring."
   ]
  },
  {
   "cell_type": "code",
   "execution_count": null,
   "id": "de0d57cd",
   "metadata": {},
   "outputs": [],
   "source": [
    "# # 11st.Get All Indices of Element\n",
    "# Given a tuple and an element, find all the indices of that element in the tuple.\n",
    "# 🟩 Kortejda element uchragan barcha indekslarni toping."
   ]
  },
  {
   "cell_type": "code",
   "execution_count": null,
   "id": "7e6a1eba",
   "metadata": {},
   "outputs": [],
   "source": [
    "# # 12st.Find Second Largest\n",
    "# From a given tuple, find the second largest element.\n",
    "# 🟩 Kortejdagi ikkinchi eng katta elementni aniqlang."
   ]
  },
  {
   "cell_type": "code",
   "execution_count": null,
   "id": "5bfef336",
   "metadata": {},
   "outputs": [],
   "source": [
    "# # 13st. Find Second Smallest\n",
    "# From a given tuple, find the second smallest element.\n",
    "# 🟩 Kortejdagi ikkinchi eng kichik elementni aniqlang."
   ]
  },
  {
   "cell_type": "code",
   "execution_count": null,
   "id": "2cec2a5a",
   "metadata": {},
   "outputs": [],
   "source": [
    "# # 14st.Create a Single Element Tuple\n",
    "# Create a tuple that contains a single specified element.\n",
    "# 🟩 Faqat bitta berilgan elementdan iborat kortej yarating."
   ]
  },
  {
   "cell_type": "code",
   "execution_count": null,
   "id": "8011adad",
   "metadata": {},
   "outputs": [],
   "source": [
    "# # 15st. Convert List to Tuple\n",
    "# Given a list, create a tuple containing the same elements.\n",
    "# 🟩 Berilgan ro‘yxatni (list) kortejga aylantiring.c"
   ]
  },
  {
   "cell_type": "code",
   "execution_count": null,
   "id": "26ea9090",
   "metadata": {},
   "outputs": [],
   "source": [
    "# # 16st.Check if Tuple is Sorted\n",
    "# Determine if the tuple is sorted in ascending order and return a boolean.\n",
    "# 🟩 Kortej o‘sish tartibida tartiblanganmi-yo‘qmi, shuni aniqlang (True yoki False)."
   ]
  },
  {
   "cell_type": "code",
   "execution_count": null,
   "id": "19719e6a",
   "metadata": {},
   "outputs": [],
   "source": [
    "# # 17st. Find Maximum of Subtuple\n",
    "# Given a tuple, find the maximum element of a specified subtuple.\n",
    "# 🟩 Kortejdan tanlangan qismining (subtuple) eng katta elementini aniqlang."
   ]
  },
  {
   "cell_type": "code",
   "execution_count": null,
   "id": "fe7260f0",
   "metadata": {},
   "outputs": [],
   "source": [
    "# # 18st. Find Minimum of Subtuple\n",
    "# Given a tuple, find the minimum element of a specified subtuple.\n",
    "# 🟩 Kortejdan tanlangan qismining eng kichik elementini aniqlang."
   ]
  },
  {
   "cell_type": "code",
   "execution_count": null,
   "id": "b0023f2b",
   "metadata": {},
   "outputs": [],
   "source": [
    "# # 19st. Remove Element by Value\n",
    "# Given a tuple and an element, create a new tuple that removes the first occurrence of that element.\n",
    "# 🟩 Kortejdagi berilgan elementning birinchi uchrashini olib tashlab, yangi kortej yarating."
   ]
  },
  {
   "cell_type": "code",
   "execution_count": null,
   "id": "234c2cfe",
   "metadata": {},
   "outputs": [],
   "source": [
    "# # 20st.Create Nested Tuple\n",
    "# Create a new tuple that contains subtuples, where each subtuple contains specified elements from the original tuple.\n",
    "# 🟩 Kortej elementlarini kichik kortejlarga bo‘lib, yangi ichma-ich (nested) kortej yarating."
   ]
  },
  {
   "cell_type": "code",
   "execution_count": null,
   "id": "11ec7e97",
   "metadata": {},
   "outputs": [],
   "source": [
    "# # 21st.Repeat Elements\n",
    "# Given a tuple and a number, create a new tuple where each element is repeated that number of times.\n",
    "# 🟩 Har bir elementni ko‘rsatilgan marta takrorlab, yangi kortej yarating."
   ]
  },
  {
   "cell_type": "code",
   "execution_count": null,
   "id": "f9cfcf41",
   "metadata": {},
   "outputs": [],
   "source": [
    "# # 22st.Create Range Tuple\n",
    "# Create a tuple of numbers in a specified range (e.g., from 1 to 10).\n",
    "# 🟩 Ko‘rsatilgan oraliqda sonlardan iborat kortej yarating."
   ]
  },
  {
   "cell_type": "code",
   "execution_count": null,
   "id": "8afe91ed",
   "metadata": {},
   "outputs": [],
   "source": [
    "# # 23st.Reverse Tuple\n",
    "# Create a new tuple that contains the elements in reverse order.\n",
    "# 🟩 Elementlari teskari tartibda joylashgan yangi kortej yarating."
   ]
  },
  {
   "cell_type": "code",
   "execution_count": null,
   "id": "16402edd",
   "metadata": {},
   "outputs": [],
   "source": [
    "# # 24st. Check Palindrome\n",
    "# Given a tuple, check if the tuple is a palindrome (reads the same forwards and backwards).\n",
    "# 🟩 Kortej palindrom (teskari o‘qishda ham bir xil) ekanligini tekshiring."
   ]
  },
  {
   "cell_type": "code",
   "execution_count": null,
   "id": "6b1ba59d",
   "metadata": {},
   "outputs": [],
   "source": [
    "# # 25st. Get Unique Elements\n",
    "# Given a tuple, create a new tuple that contains only the unique elements while maintaining the original order.\n",
    "# 🟩 Kortejdagi yagona elementlarni, asl tartibni saqlagan holda ajratib, yangi kortej yarating."
   ]
  },
  {
   "cell_type": "markdown",
   "id": "733b5bda",
   "metadata": {},
   "source": [
    "# Set"
   ]
  },
  {
   "cell_type": "code",
   "execution_count": null,
   "id": "37acadcb",
   "metadata": {},
   "outputs": [],
   "source": [
    "# # 1st.Given two sets, create a new set that contains all unique elements from both sets.\n",
    "# 🟩 Ikki to‘plamdan yagona (takrorlanmagan) elementlardan iborat yangi to‘plam yarating."
   ]
  },
  {
   "cell_type": "code",
   "execution_count": 110,
   "id": "35289247",
   "metadata": {},
   "outputs": [],
   "source": [
    "# # 2st.Intersection of Sets\n",
    "# Given two sets, create a new set that contains elements common to both sets.\n",
    "# 🟩 Ikki to‘plamda ham mavjud bo‘lgan umumiy elementlardan iborat yangi to‘plam yarating."
   ]
  },
  {
   "cell_type": "code",
   "execution_count": null,
   "id": "f8afdecb",
   "metadata": {},
   "outputs": [],
   "source": [
    "# # 3st. Difference of Sets\n",
    "# Given two sets, create a new set with elements from the first set that are not in the second.\n",
    "# 🟩 Birinchi to‘plamda bo‘lib, ikkinchisida yo‘q bo‘lgan elementlardan iborat yangi to‘plam yarating."
   ]
  },
  {
   "cell_type": "code",
   "execution_count": null,
   "id": "675c7ed2",
   "metadata": {},
   "outputs": [],
   "source": [
    "# # 4st.Check Subset\n",
    "# Given two sets, check if one set is a subset of the other.\n",
    "# 🟩 Bitta to‘plam ikkinchisining ichki to‘plami (subset) ekanligini tekshiring."
   ]
  },
  {
   "cell_type": "code",
   "execution_count": null,
   "id": "4ee3ff6c",
   "metadata": {},
   "outputs": [],
   "source": [
    "# # 5st.Check Element\n",
    "# Given a set and an element, check if the element exists in the set.\n",
    "# 🟩 To‘plamda berilgan element mavjudligini tekshiring."
   ]
  },
  {
   "cell_type": "code",
   "execution_count": null,
   "id": "e29498a9",
   "metadata": {},
   "outputs": [],
   "source": [
    "# # 6st.Set Length\n",
    "# Determine the number of unique elements in a set.\n",
    "# 🟩 To‘plamdagi yagona (takrorlanmagan) elementlar sonini aniqlang."
   ]
  },
  {
   "cell_type": "code",
   "execution_count": 112,
   "id": "2556d867",
   "metadata": {},
   "outputs": [],
   "source": [
    "# # 7st.Convert List to Set\n",
    "# Given a list, create a new set that contains only the unique elements from that list.\n",
    "# 🟩 Ro‘yxatdagi elementlardan yagona elementlardan iborat to‘plam yarating."
   ]
  },
  {
   "cell_type": "code",
   "execution_count": null,
   "id": "c555056a",
   "metadata": {},
   "outputs": [],
   "source": [
    "# # 8st.Remove Element\n",
    "# Given a set and an element, remove the element if it exists.\n",
    "# 🟩 Agar mavjud bo‘lsa, to‘plamdan ko‘rsatilgan elementni olib tashlang."
   ]
  },
  {
   "cell_type": "code",
   "execution_count": null,
   "id": "0f297f56",
   "metadata": {},
   "outputs": [],
   "source": [
    "# # 9st.Clear Set\n",
    "# Create a new empty set from an existing set.\n",
    "# 🟩 Mavjud to‘plamni tozalab, bo‘sh to‘plamga aylantiring."
   ]
  },
  {
   "cell_type": "code",
   "execution_count": 113,
   "id": "e7ddf802",
   "metadata": {},
   "outputs": [],
   "source": [
    "# # 10st.Check if Set is Empty\n",
    "# Determine if a set has any elements.\n",
    "# 🟩 To‘plam bo‘shmi yoki unda elementlar bormi — tekshiring."
   ]
  },
  {
   "cell_type": "code",
   "execution_count": null,
   "id": "b8c478c9",
   "metadata": {},
   "outputs": [],
   "source": [
    "# # 11st.Symmetric Difference\n",
    "# Given two sets, create a new set that contains elements that are in either set but not in both.\n",
    "# 🟩 Faqat bittagina to‘plamda mavjud bo‘lgan elementlardan iborat yangi to‘plam yarating (ikkalasida ham bo‘lmaganlar emas, balki umumiy bo‘lmaganlar)."
   ]
  },
  {
   "cell_type": "code",
   "execution_count": null,
   "id": "3c21a779",
   "metadata": {},
   "outputs": [],
   "source": [
    "# # # 12st.Add Element\n",
    "# Given a set and an element, add the element to the set if it is not already present.\n",
    "# 🟩 Agar mavjud bo‘lmasa, to‘plamga element qo‘shing."
   ]
  },
  {
   "cell_type": "code",
   "execution_count": null,
   "id": "894b2341",
   "metadata": {},
   "outputs": [],
   "source": [
    "# # 13st.Pop Element\n",
    "# Given a set, remove and return an arbitrary element from the set.\n",
    "# 🟩 To‘plamdan ixtiyoriy elementni olib tashlang va uni qaytaring."
   ]
  },
  {
   "cell_type": "code",
   "execution_count": null,
   "id": "0ac32364",
   "metadata": {},
   "outputs": [],
   "source": [
    "# # 14st. Find Maximum\n",
    "# From a given set of numbers, find the maximum element.\n",
    "# 🟩 Berilgan sonlar to‘plamidan eng katta elementni toping."
   ]
  },
  {
   "cell_type": "code",
   "execution_count": null,
   "id": "9fc5cb81",
   "metadata": {},
   "outputs": [],
   "source": [
    "# # 15st.Find Minimum\n",
    "# From a given set of numbers, find the minimum element.\n",
    "# 🟩 Berilgan sonlar to‘plamidan eng kichik elementni toping."
   ]
  },
  {
   "cell_type": "code",
   "execution_count": null,
   "id": "6e34ee61",
   "metadata": {},
   "outputs": [],
   "source": [
    "# # 16st.Filter Even Numbers\n",
    "# Given a set of integers, create a new set that contains only the even numbers.\n",
    "# 🟩 Faqat juft sonlardan iborat yangi to‘plam yarating."
   ]
  },
  {
   "cell_type": "code",
   "execution_count": null,
   "id": "89d5acda",
   "metadata": {},
   "outputs": [],
   "source": [
    "# # 17st.Filter Odd Numbers\n",
    "# Given a set of integers, create a new set that contains only the odd numbers.\n",
    "# 🟩 Faqat toq sonlardan iborat yangi to‘plam yarating."
   ]
  },
  {
   "cell_type": "code",
   "execution_count": null,
   "id": "c3c08dc1",
   "metadata": {},
   "outputs": [],
   "source": [
    "# # 18st.Create a Set of a Range\n",
    "# Create a set of numbers in a specified range (e.g., from 1 to 10).\n",
    "# 🟩 Masalan, 1 dan 10 gacha bo‘lgan sonlardan iborat to‘plam yarating."
   ]
  },
  {
   "cell_type": "code",
   "execution_count": null,
   "id": "eb415b33",
   "metadata": {},
   "outputs": [],
   "source": [
    "# # 19st.Merge and Deduplicate\n",
    "# Given two lists, create a new set that merges both lists and removes duplicates.\n",
    "# 🟩 Ikki ro‘yxatni birlashtirib, takroriy elementlarni olib tashlab, yagona to‘plam yarating."
   ]
  },
  {
   "cell_type": "code",
   "execution_count": null,
   "id": "e5cc91b7",
   "metadata": {},
   "outputs": [],
   "source": [
    "# # 20st.Check Disjoint Sets\n",
    "# Given two sets, check if they have no elements in common.\n",
    "# 🟩 Ikki to‘plamda umumiy element yo‘qligini tekshiring."
   ]
  },
  {
   "cell_type": "code",
   "execution_count": null,
   "id": "89a3a03c",
   "metadata": {},
   "outputs": [],
   "source": [
    "# # 21st.Remove Duplicates from a List\n",
    "# Given a list, create a set from it to remove duplicates, then convert back to a list.\n",
    "# 🟩 Ro‘yxatdan takroriy elementlarni olib tashlash uchun avval uni to‘plamga aylantiring, so‘ngra qayta ro‘yxatga o‘tkazing."
   ]
  },
  {
   "cell_type": "code",
   "execution_count": null,
   "id": "7b744c65",
   "metadata": {},
   "outputs": [],
   "source": [
    "# # 22st.Count Unique Elements\n",
    "# Given a list, determine the count of unique elements using a set.\n",
    "# 🟩 Ro‘yxatdagi yagona elementlar sonini set orqali aniqlang."
   ]
  },
  {
   "cell_type": "code",
   "execution_count": null,
   "id": "27f45b71",
   "metadata": {},
   "outputs": [],
   "source": [
    "# # 23st.Generate Random Set\n",
    "# Create a set with a specified number of random integers within a certain range.\n",
    "# 🟩 Belgilangan oraliqda tasodifiy sonlardan iborat to‘plam yarating."
   ]
  },
  {
   "cell_type": "markdown",
   "id": "fce0260d",
   "metadata": {},
   "source": [
    "# # Dictionary "
   ]
  },
  {
   "cell_type": "code",
   "execution_count": 85,
   "id": "ae83155d",
   "metadata": {},
   "outputs": [],
   "source": [
    "# 1st."
   ]
  },
  {
   "cell_type": "code",
   "execution_count": 86,
   "id": "206adef6",
   "metadata": {},
   "outputs": [],
   "source": [
    "# 2st."
   ]
  },
  {
   "cell_type": "code",
   "execution_count": null,
   "id": "8738e226",
   "metadata": {},
   "outputs": [],
   "source": [
    "# 3st."
   ]
  },
  {
   "cell_type": "code",
   "execution_count": 88,
   "id": "756b5f20",
   "metadata": {},
   "outputs": [],
   "source": [
    "# 4st."
   ]
  },
  {
   "cell_type": "code",
   "execution_count": 89,
   "id": "a88767c6",
   "metadata": {},
   "outputs": [],
   "source": [
    "# 5st."
   ]
  },
  {
   "cell_type": "code",
   "execution_count": 90,
   "id": "0fe6aac0",
   "metadata": {},
   "outputs": [],
   "source": [
    "# 6st."
   ]
  },
  {
   "cell_type": "code",
   "execution_count": 91,
   "id": "38a99cd4",
   "metadata": {},
   "outputs": [],
   "source": [
    "# 7st."
   ]
  },
  {
   "cell_type": "code",
   "execution_count": 92,
   "id": "d4f9a971",
   "metadata": {},
   "outputs": [],
   "source": [
    "# 8st."
   ]
  },
  {
   "cell_type": "code",
   "execution_count": 93,
   "id": "bd51a40f",
   "metadata": {},
   "outputs": [],
   "source": [
    "# 9st."
   ]
  },
  {
   "cell_type": "code",
   "execution_count": 94,
   "id": "0f510926",
   "metadata": {},
   "outputs": [],
   "source": [
    "# 10st."
   ]
  },
  {
   "cell_type": "code",
   "execution_count": 95,
   "id": "1ae3dd50",
   "metadata": {},
   "outputs": [],
   "source": [
    "# 11st."
   ]
  },
  {
   "cell_type": "code",
   "execution_count": 96,
   "id": "59b55e5a",
   "metadata": {},
   "outputs": [],
   "source": [
    "# 12st."
   ]
  },
  {
   "cell_type": "code",
   "execution_count": 97,
   "id": "d48b81e7",
   "metadata": {},
   "outputs": [],
   "source": [
    "# 13st."
   ]
  },
  {
   "cell_type": "code",
   "execution_count": 98,
   "id": "5f6a5048",
   "metadata": {},
   "outputs": [],
   "source": [
    "# 14st."
   ]
  },
  {
   "cell_type": "code",
   "execution_count": 99,
   "id": "c8febc4f",
   "metadata": {},
   "outputs": [],
   "source": [
    "# 15st."
   ]
  },
  {
   "cell_type": "code",
   "execution_count": 100,
   "id": "b659875f",
   "metadata": {},
   "outputs": [],
   "source": [
    "# 16st."
   ]
  },
  {
   "cell_type": "code",
   "execution_count": 101,
   "id": "cd28a506",
   "metadata": {},
   "outputs": [],
   "source": [
    "# 17st."
   ]
  },
  {
   "cell_type": "code",
   "execution_count": 102,
   "id": "cf86bbaa",
   "metadata": {},
   "outputs": [],
   "source": [
    "# 18st."
   ]
  },
  {
   "cell_type": "code",
   "execution_count": 103,
   "id": "3831ec5a",
   "metadata": {},
   "outputs": [],
   "source": [
    "# 19st."
   ]
  },
  {
   "cell_type": "code",
   "execution_count": 104,
   "id": "07fb0992",
   "metadata": {},
   "outputs": [],
   "source": [
    "# 20st."
   ]
  },
  {
   "cell_type": "code",
   "execution_count": 105,
   "id": "98c9f049",
   "metadata": {},
   "outputs": [],
   "source": [
    "# 21st."
   ]
  },
  {
   "cell_type": "code",
   "execution_count": 106,
   "id": "00fcecd4",
   "metadata": {},
   "outputs": [],
   "source": [
    "# 22st."
   ]
  },
  {
   "cell_type": "code",
   "execution_count": 107,
   "id": "373c55a1",
   "metadata": {},
   "outputs": [],
   "source": [
    "# 23st."
   ]
  },
  {
   "cell_type": "code",
   "execution_count": 108,
   "id": "6041945e",
   "metadata": {},
   "outputs": [],
   "source": [
    "# 24st."
   ]
  },
  {
   "cell_type": "code",
   "execution_count": 109,
   "id": "87076fab",
   "metadata": {},
   "outputs": [],
   "source": [
    "# 25st."
   ]
  },
  {
   "cell_type": "code",
   "execution_count": null,
   "id": "cff3f3ca",
   "metadata": {},
   "outputs": [],
   "source": []
  }
 ],
 "metadata": {
  "kernelspec": {
   "display_name": "Python 3",
   "language": "python",
   "name": "python3"
  },
  "language_info": {
   "codemirror_mode": {
    "name": "ipython",
    "version": 3
   },
   "file_extension": ".py",
   "mimetype": "text/x-python",
   "name": "python",
   "nbconvert_exporter": "python",
   "pygments_lexer": "ipython3",
   "version": "3.12.8"
  }
 },
 "nbformat": 4,
 "nbformat_minor": 5
}
